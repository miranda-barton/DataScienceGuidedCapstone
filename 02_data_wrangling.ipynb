{
  "cells": [
    {
      "cell_type": "markdown",
      "metadata": {
        "id": "view-in-github",
        "colab_type": "text"
      },
      "source": [
        "<a href=\"https://colab.research.google.com/github/miranda-barton/DataScienceGuidedCapstone/blob/master/02_data_wrangling.ipynb\" target=\"_parent\"><img src=\"https://colab.research.google.com/assets/colab-badge.svg\" alt=\"Open In Colab\"/></a>"
      ]
    },
    {
      "cell_type": "markdown",
      "metadata": {
        "id": "aq6ijUaZ94Pg"
      },
      "source": [
        "# 2 Data wrangling<a id='2_Data_wrangling'></a>"
      ]
    },
    {
      "cell_type": "markdown",
      "metadata": {
        "id": "HYNUlh3I94Pi"
      },
      "source": [
        "## 2.1 Contents<a id='2.1_Contents'></a>\n",
        "* [2 Data wrangling](#2_Data_wrangling)\n",
        "  * [2.1 Contents](#2.1_Contents)\n",
        "  * [2.2 Introduction](#2.2_Introduction)\n",
        "    * [2.2.1 Recap Of Data Science Problem](#2.2.1_Recap_Of_Data_Science_Problem)\n",
        "    * [2.2.2 Introduction To Notebook](#2.2.2_Introduction_To_Notebook)\n",
        "  * [2.3 Imports](#2.3_Imports)\n",
        "  * [2.4 Objectives](#2.4_Objectives)\n",
        "  * [2.5 Load The Ski Resort Data](#2.5_Load_The_Ski_Resort_Data)\n",
        "  * [2.6 Explore The Data](#2.6_Explore_The_Data)\n",
        "    * [2.6.1 Find Your Resort Of Interest](#2.6.1_Find_Your_Resort_Of_Interest)\n",
        "    * [2.6.2 Number Of Missing Values By Column](#2.6.2_Number_Of_Missing_Values_By_Column)\n",
        "    * [2.6.3 Categorical Features](#2.6.3_Categorical_Features)\n",
        "      * [2.6.3.1 Unique Resort Names](#2.6.3.1_Unique_Resort_Names)\n",
        "      * [2.6.3.2 Region And State](#2.6.3.2_Region_And_State)\n",
        "      * [2.6.3.3 Number of distinct regions and states](#2.6.3.3_Number_of_distinct_regions_and_states)\n",
        "      * [2.6.3.4 Distribution Of Resorts By Region And State](#2.6.3.4_Distribution_Of_Resorts_By_Region_And_State)\n",
        "      * [2.6.3.5 Distribution Of Ticket Price By State](#2.6.3.5_Distribution_Of_Ticket_Price_By_State)\n",
        "        * [2.6.3.5.1 Average weekend and weekday price by state](#2.6.3.5.1_Average_weekend_and_weekday_price_by_state)\n",
        "        * [2.6.3.5.2 Distribution of weekday and weekend price by state](#2.6.3.5.2_Distribution_of_weekday_and_weekend_price_by_state)\n",
        "    * [2.6.4 Numeric Features](#2.6.4_Numeric_Features)\n",
        "      * [2.6.4.1 Numeric data summary](#2.6.4.1_Numeric_data_summary)\n",
        "      * [2.6.4.2 Distributions Of Feature Values](#2.6.4.2_Distributions_Of_Feature_Values)\n",
        "        * [2.6.4.2.1 SkiableTerrain_ac](#2.6.4.2.1_SkiableTerrain_ac)\n",
        "        * [2.6.4.2.2 Snow Making_ac](#2.6.4.2.2_Snow_Making_ac)\n",
        "        * [2.6.4.2.3 fastEight](#2.6.4.2.3_fastEight)\n",
        "        * [2.6.4.2.4 fastSixes and Trams](#2.6.4.2.4_fastSixes_and_Trams)\n",
        "  * [2.7 Derive State-wide Summary Statistics For Our Market Segment](#2.7_Derive_State-wide_Summary_Statistics_For_Our_Market_Segment)\n",
        "  * [2.8 Drop Rows With No Price Data](#2.8_Drop_Rows_With_No_Price_Data)\n",
        "  * [2.9 Review distributions](#2.9_Review_distributions)\n",
        "  * [2.10 Population data](#2.10_Population_data)\n",
        "  * [2.11 Target Feature](#2.11_Target_Feature)\n",
        "    * [2.11.1 Number Of Missing Values By Row - Resort](#2.11.1_Number_Of_Missing_Values_By_Row_-_Resort)\n",
        "  * [2.12 Save data](#2.12_Save_data)\n",
        "  * [2.13 Summary](#2.13_Summary)\n"
      ]
    },
    {
      "cell_type": "markdown",
      "metadata": {
        "id": "kqarAhZY94Pj"
      },
      "source": [
        "## 2.2 Introduction<a id='2.2_Introduction'></a>"
      ]
    },
    {
      "cell_type": "markdown",
      "metadata": {
        "id": "-PThShVG94Pk"
      },
      "source": [
        "This step focuses on collecting your data, organizing it, and making sure it's well defined. Paying attention to these tasks will pay off greatly later on. Some data cleaning can be done at this stage, but it's important not to be overzealous in your cleaning before you've explored the data to better understand it."
      ]
    },
    {
      "cell_type": "markdown",
      "metadata": {
        "id": "IBWDTF1H94Pk"
      },
      "source": [
        "### 2.2.1 Recap Of Data Science Problem<a id='2.2.1_Recap_Of_Data_Science_Problem'></a>"
      ]
    },
    {
      "cell_type": "markdown",
      "metadata": {
        "id": "qOFukGey94Pk"
      },
      "source": [
        "The purpose of this data science project is to come up with a pricing model for ski resort tickets in our market segment. Big Mountain suspects it may not be maximizing its returns, relative to its position in the market. It also does not have a strong sense of what facilities matter most to visitors, particularly which ones they're most likely to pay more for. This project aims to build a predictive model for ticket price based on a number of facilities, or properties, boasted by resorts (*at the resorts).* \n",
        "This model will be used to provide guidance for Big Mountain's pricing and future facility investment plans."
      ]
    },
    {
      "cell_type": "markdown",
      "metadata": {
        "id": "Dbo4r_Du94Pk"
      },
      "source": [
        "### 2.2.2 Introduction To Notebook<a id='2.2.2_Introduction_To_Notebook'></a>"
      ]
    },
    {
      "cell_type": "markdown",
      "metadata": {
        "id": "fBnGaTkb94Pl"
      },
      "source": [
        "Notebooks grow organically as we explore our data. If you used paper notebooks, you could discover a mistake and cross out or revise some earlier work. Later work may give you a reason to revisit earlier work and explore it further. The great thing about Jupyter notebooks is that you can edit, add, and move cells around without needing to cross out figures or scrawl in the margin. However, this means you can lose track of your changes easily. If you worked in a regulated environment, the company may have a a policy of always dating entries and clearly crossing out any mistakes, with your initials and the date.\n",
        "\n",
        "**Best practice here is to commit your changes using a version control system such as Git.** Try to get into the habit of adding and committing your files to the Git repository you're working in after you save them. You're are working in a Git repository, right? If you make a significant change, save the notebook and commit it to Git. In fact, if you're about to make a significant change, it's a good idea to commit before as well. Then if the change is a mess, you've got the previous version to go back to.\n",
        "\n",
        "**Another best practice with notebooks is to try to keep them organized with helpful headings and comments.** Not only can a good structure, but associated headings help you keep track of what you've done and your current focus. Anyone reading your notebook will have a much easier time following the flow of work. Remember, that 'anyone' will most likely be you. Be kind to future you!\n",
        "\n",
        "In this notebook, note how we try to use well structured, helpful headings that frequently are self-explanatory, and we make a brief note after any results to highlight key takeaways. This is an immense help to anyone reading your notebook and it will greatly help you when you come to summarise your findings. **Top tip: jot down key findings in a final summary at the end of the notebook as they arise. You can tidy this up later.** This is a great way to ensure important results don't get lost in the middle of your notebooks."
      ]
    },
    {
      "cell_type": "markdown",
      "metadata": {
        "id": "qHzgaNMT94Pl"
      },
      "source": [
        "In this, and subsequent notebooks, there are coding tasks marked with `#Code task n#` with code to complete. The `___` will guide you to where you need to insert code."
      ]
    },
    {
      "cell_type": "markdown",
      "metadata": {
        "id": "Z3uYg2oD94Pl"
      },
      "source": [
        "## 2.3 Imports<a id='2.3_Imports'></a>"
      ]
    },
    {
      "cell_type": "markdown",
      "metadata": {
        "id": "ELdU-7Iv94Pm"
      },
      "source": [
        "Placing your imports all together at the start of your notebook means you only need to consult one place to check your notebook's dependencies. By all means import something 'in situ' later on when you're experimenting, but if the imported dependency ends up being kept, you should subsequently move the import statement here with the rest."
      ]
    },
    {
      "cell_type": "code",
      "source": [
        "from google.colab import files\n",
        "\n",
        "uploaded = files.upload()"
      ],
      "metadata": {
        "colab": {
          "base_uri": "https://localhost:8080/",
          "height": 73
        },
        "id": "4b7hMGBzCbPc",
        "outputId": "d1b7607c-0030-4324-dd22-6d0d00c1c814"
      },
      "execution_count": 17,
      "outputs": [
        {
          "output_type": "display_data",
          "data": {
            "text/plain": [
              "<IPython.core.display.HTML object>"
            ],
            "text/html": [
              "\n",
              "     <input type=\"file\" id=\"files-42aef847-f1d7-4807-b41a-27ebd0f3bd62\" name=\"files[]\" multiple disabled\n",
              "        style=\"border:none\" />\n",
              "     <output id=\"result-42aef847-f1d7-4807-b41a-27ebd0f3bd62\">\n",
              "      Upload widget is only available when the cell has been executed in the\n",
              "      current browser session. Please rerun this cell to enable.\n",
              "      </output>\n",
              "      <script>// Copyright 2017 Google LLC\n",
              "//\n",
              "// Licensed under the Apache License, Version 2.0 (the \"License\");\n",
              "// you may not use this file except in compliance with the License.\n",
              "// You may obtain a copy of the License at\n",
              "//\n",
              "//      http://www.apache.org/licenses/LICENSE-2.0\n",
              "//\n",
              "// Unless required by applicable law or agreed to in writing, software\n",
              "// distributed under the License is distributed on an \"AS IS\" BASIS,\n",
              "// WITHOUT WARRANTIES OR CONDITIONS OF ANY KIND, either express or implied.\n",
              "// See the License for the specific language governing permissions and\n",
              "// limitations under the License.\n",
              "\n",
              "/**\n",
              " * @fileoverview Helpers for google.colab Python module.\n",
              " */\n",
              "(function(scope) {\n",
              "function span(text, styleAttributes = {}) {\n",
              "  const element = document.createElement('span');\n",
              "  element.textContent = text;\n",
              "  for (const key of Object.keys(styleAttributes)) {\n",
              "    element.style[key] = styleAttributes[key];\n",
              "  }\n",
              "  return element;\n",
              "}\n",
              "\n",
              "// Max number of bytes which will be uploaded at a time.\n",
              "const MAX_PAYLOAD_SIZE = 100 * 1024;\n",
              "\n",
              "function _uploadFiles(inputId, outputId) {\n",
              "  const steps = uploadFilesStep(inputId, outputId);\n",
              "  const outputElement = document.getElementById(outputId);\n",
              "  // Cache steps on the outputElement to make it available for the next call\n",
              "  // to uploadFilesContinue from Python.\n",
              "  outputElement.steps = steps;\n",
              "\n",
              "  return _uploadFilesContinue(outputId);\n",
              "}\n",
              "\n",
              "// This is roughly an async generator (not supported in the browser yet),\n",
              "// where there are multiple asynchronous steps and the Python side is going\n",
              "// to poll for completion of each step.\n",
              "// This uses a Promise to block the python side on completion of each step,\n",
              "// then passes the result of the previous step as the input to the next step.\n",
              "function _uploadFilesContinue(outputId) {\n",
              "  const outputElement = document.getElementById(outputId);\n",
              "  const steps = outputElement.steps;\n",
              "\n",
              "  const next = steps.next(outputElement.lastPromiseValue);\n",
              "  return Promise.resolve(next.value.promise).then((value) => {\n",
              "    // Cache the last promise value to make it available to the next\n",
              "    // step of the generator.\n",
              "    outputElement.lastPromiseValue = value;\n",
              "    return next.value.response;\n",
              "  });\n",
              "}\n",
              "\n",
              "/**\n",
              " * Generator function which is called between each async step of the upload\n",
              " * process.\n",
              " * @param {string} inputId Element ID of the input file picker element.\n",
              " * @param {string} outputId Element ID of the output display.\n",
              " * @return {!Iterable<!Object>} Iterable of next steps.\n",
              " */\n",
              "function* uploadFilesStep(inputId, outputId) {\n",
              "  const inputElement = document.getElementById(inputId);\n",
              "  inputElement.disabled = false;\n",
              "\n",
              "  const outputElement = document.getElementById(outputId);\n",
              "  outputElement.innerHTML = '';\n",
              "\n",
              "  const pickedPromise = new Promise((resolve) => {\n",
              "    inputElement.addEventListener('change', (e) => {\n",
              "      resolve(e.target.files);\n",
              "    });\n",
              "  });\n",
              "\n",
              "  const cancel = document.createElement('button');\n",
              "  inputElement.parentElement.appendChild(cancel);\n",
              "  cancel.textContent = 'Cancel upload';\n",
              "  const cancelPromise = new Promise((resolve) => {\n",
              "    cancel.onclick = () => {\n",
              "      resolve(null);\n",
              "    };\n",
              "  });\n",
              "\n",
              "  // Wait for the user to pick the files.\n",
              "  const files = yield {\n",
              "    promise: Promise.race([pickedPromise, cancelPromise]),\n",
              "    response: {\n",
              "      action: 'starting',\n",
              "    }\n",
              "  };\n",
              "\n",
              "  cancel.remove();\n",
              "\n",
              "  // Disable the input element since further picks are not allowed.\n",
              "  inputElement.disabled = true;\n",
              "\n",
              "  if (!files) {\n",
              "    return {\n",
              "      response: {\n",
              "        action: 'complete',\n",
              "      }\n",
              "    };\n",
              "  }\n",
              "\n",
              "  for (const file of files) {\n",
              "    const li = document.createElement('li');\n",
              "    li.append(span(file.name, {fontWeight: 'bold'}));\n",
              "    li.append(span(\n",
              "        `(${file.type || 'n/a'}) - ${file.size} bytes, ` +\n",
              "        `last modified: ${\n",
              "            file.lastModifiedDate ? file.lastModifiedDate.toLocaleDateString() :\n",
              "                                    'n/a'} - `));\n",
              "    const percent = span('0% done');\n",
              "    li.appendChild(percent);\n",
              "\n",
              "    outputElement.appendChild(li);\n",
              "\n",
              "    const fileDataPromise = new Promise((resolve) => {\n",
              "      const reader = new FileReader();\n",
              "      reader.onload = (e) => {\n",
              "        resolve(e.target.result);\n",
              "      };\n",
              "      reader.readAsArrayBuffer(file);\n",
              "    });\n",
              "    // Wait for the data to be ready.\n",
              "    let fileData = yield {\n",
              "      promise: fileDataPromise,\n",
              "      response: {\n",
              "        action: 'continue',\n",
              "      }\n",
              "    };\n",
              "\n",
              "    // Use a chunked sending to avoid message size limits. See b/62115660.\n",
              "    let position = 0;\n",
              "    do {\n",
              "      const length = Math.min(fileData.byteLength - position, MAX_PAYLOAD_SIZE);\n",
              "      const chunk = new Uint8Array(fileData, position, length);\n",
              "      position += length;\n",
              "\n",
              "      const base64 = btoa(String.fromCharCode.apply(null, chunk));\n",
              "      yield {\n",
              "        response: {\n",
              "          action: 'append',\n",
              "          file: file.name,\n",
              "          data: base64,\n",
              "        },\n",
              "      };\n",
              "\n",
              "      let percentDone = fileData.byteLength === 0 ?\n",
              "          100 :\n",
              "          Math.round((position / fileData.byteLength) * 100);\n",
              "      percent.textContent = `${percentDone}% done`;\n",
              "\n",
              "    } while (position < fileData.byteLength);\n",
              "  }\n",
              "\n",
              "  // All done.\n",
              "  yield {\n",
              "    response: {\n",
              "      action: 'complete',\n",
              "    }\n",
              "  };\n",
              "}\n",
              "\n",
              "scope.google = scope.google || {};\n",
              "scope.google.colab = scope.google.colab || {};\n",
              "scope.google.colab._files = {\n",
              "  _uploadFiles,\n",
              "  _uploadFilesContinue,\n",
              "};\n",
              "})(self);\n",
              "</script> "
            ]
          },
          "metadata": {}
        },
        {
          "output_type": "stream",
          "name": "stdout",
          "text": [
            "Saving sb_utils.py to sb_utils.py\n"
          ]
        }
      ]
    },
    {
      "cell_type": "code",
      "source": [
        "from google.colab import files\n",
        "\n",
        "uploaded2 = files.upload()"
      ],
      "metadata": {
        "colab": {
          "base_uri": "https://localhost:8080/",
          "height": 73
        },
        "id": "YEQddGNND9vr",
        "outputId": "d2808fbf-2c6c-49d0-a623-69125397f9bd"
      },
      "execution_count": 22,
      "outputs": [
        {
          "output_type": "display_data",
          "data": {
            "text/plain": [
              "<IPython.core.display.HTML object>"
            ],
            "text/html": [
              "\n",
              "     <input type=\"file\" id=\"files-f478ded6-69d4-49d0-bc90-84229ba90cfd\" name=\"files[]\" multiple disabled\n",
              "        style=\"border:none\" />\n",
              "     <output id=\"result-f478ded6-69d4-49d0-bc90-84229ba90cfd\">\n",
              "      Upload widget is only available when the cell has been executed in the\n",
              "      current browser session. Please rerun this cell to enable.\n",
              "      </output>\n",
              "      <script>// Copyright 2017 Google LLC\n",
              "//\n",
              "// Licensed under the Apache License, Version 2.0 (the \"License\");\n",
              "// you may not use this file except in compliance with the License.\n",
              "// You may obtain a copy of the License at\n",
              "//\n",
              "//      http://www.apache.org/licenses/LICENSE-2.0\n",
              "//\n",
              "// Unless required by applicable law or agreed to in writing, software\n",
              "// distributed under the License is distributed on an \"AS IS\" BASIS,\n",
              "// WITHOUT WARRANTIES OR CONDITIONS OF ANY KIND, either express or implied.\n",
              "// See the License for the specific language governing permissions and\n",
              "// limitations under the License.\n",
              "\n",
              "/**\n",
              " * @fileoverview Helpers for google.colab Python module.\n",
              " */\n",
              "(function(scope) {\n",
              "function span(text, styleAttributes = {}) {\n",
              "  const element = document.createElement('span');\n",
              "  element.textContent = text;\n",
              "  for (const key of Object.keys(styleAttributes)) {\n",
              "    element.style[key] = styleAttributes[key];\n",
              "  }\n",
              "  return element;\n",
              "}\n",
              "\n",
              "// Max number of bytes which will be uploaded at a time.\n",
              "const MAX_PAYLOAD_SIZE = 100 * 1024;\n",
              "\n",
              "function _uploadFiles(inputId, outputId) {\n",
              "  const steps = uploadFilesStep(inputId, outputId);\n",
              "  const outputElement = document.getElementById(outputId);\n",
              "  // Cache steps on the outputElement to make it available for the next call\n",
              "  // to uploadFilesContinue from Python.\n",
              "  outputElement.steps = steps;\n",
              "\n",
              "  return _uploadFilesContinue(outputId);\n",
              "}\n",
              "\n",
              "// This is roughly an async generator (not supported in the browser yet),\n",
              "// where there are multiple asynchronous steps and the Python side is going\n",
              "// to poll for completion of each step.\n",
              "// This uses a Promise to block the python side on completion of each step,\n",
              "// then passes the result of the previous step as the input to the next step.\n",
              "function _uploadFilesContinue(outputId) {\n",
              "  const outputElement = document.getElementById(outputId);\n",
              "  const steps = outputElement.steps;\n",
              "\n",
              "  const next = steps.next(outputElement.lastPromiseValue);\n",
              "  return Promise.resolve(next.value.promise).then((value) => {\n",
              "    // Cache the last promise value to make it available to the next\n",
              "    // step of the generator.\n",
              "    outputElement.lastPromiseValue = value;\n",
              "    return next.value.response;\n",
              "  });\n",
              "}\n",
              "\n",
              "/**\n",
              " * Generator function which is called between each async step of the upload\n",
              " * process.\n",
              " * @param {string} inputId Element ID of the input file picker element.\n",
              " * @param {string} outputId Element ID of the output display.\n",
              " * @return {!Iterable<!Object>} Iterable of next steps.\n",
              " */\n",
              "function* uploadFilesStep(inputId, outputId) {\n",
              "  const inputElement = document.getElementById(inputId);\n",
              "  inputElement.disabled = false;\n",
              "\n",
              "  const outputElement = document.getElementById(outputId);\n",
              "  outputElement.innerHTML = '';\n",
              "\n",
              "  const pickedPromise = new Promise((resolve) => {\n",
              "    inputElement.addEventListener('change', (e) => {\n",
              "      resolve(e.target.files);\n",
              "    });\n",
              "  });\n",
              "\n",
              "  const cancel = document.createElement('button');\n",
              "  inputElement.parentElement.appendChild(cancel);\n",
              "  cancel.textContent = 'Cancel upload';\n",
              "  const cancelPromise = new Promise((resolve) => {\n",
              "    cancel.onclick = () => {\n",
              "      resolve(null);\n",
              "    };\n",
              "  });\n",
              "\n",
              "  // Wait for the user to pick the files.\n",
              "  const files = yield {\n",
              "    promise: Promise.race([pickedPromise, cancelPromise]),\n",
              "    response: {\n",
              "      action: 'starting',\n",
              "    }\n",
              "  };\n",
              "\n",
              "  cancel.remove();\n",
              "\n",
              "  // Disable the input element since further picks are not allowed.\n",
              "  inputElement.disabled = true;\n",
              "\n",
              "  if (!files) {\n",
              "    return {\n",
              "      response: {\n",
              "        action: 'complete',\n",
              "      }\n",
              "    };\n",
              "  }\n",
              "\n",
              "  for (const file of files) {\n",
              "    const li = document.createElement('li');\n",
              "    li.append(span(file.name, {fontWeight: 'bold'}));\n",
              "    li.append(span(\n",
              "        `(${file.type || 'n/a'}) - ${file.size} bytes, ` +\n",
              "        `last modified: ${\n",
              "            file.lastModifiedDate ? file.lastModifiedDate.toLocaleDateString() :\n",
              "                                    'n/a'} - `));\n",
              "    const percent = span('0% done');\n",
              "    li.appendChild(percent);\n",
              "\n",
              "    outputElement.appendChild(li);\n",
              "\n",
              "    const fileDataPromise = new Promise((resolve) => {\n",
              "      const reader = new FileReader();\n",
              "      reader.onload = (e) => {\n",
              "        resolve(e.target.result);\n",
              "      };\n",
              "      reader.readAsArrayBuffer(file);\n",
              "    });\n",
              "    // Wait for the data to be ready.\n",
              "    let fileData = yield {\n",
              "      promise: fileDataPromise,\n",
              "      response: {\n",
              "        action: 'continue',\n",
              "      }\n",
              "    };\n",
              "\n",
              "    // Use a chunked sending to avoid message size limits. See b/62115660.\n",
              "    let position = 0;\n",
              "    do {\n",
              "      const length = Math.min(fileData.byteLength - position, MAX_PAYLOAD_SIZE);\n",
              "      const chunk = new Uint8Array(fileData, position, length);\n",
              "      position += length;\n",
              "\n",
              "      const base64 = btoa(String.fromCharCode.apply(null, chunk));\n",
              "      yield {\n",
              "        response: {\n",
              "          action: 'append',\n",
              "          file: file.name,\n",
              "          data: base64,\n",
              "        },\n",
              "      };\n",
              "\n",
              "      let percentDone = fileData.byteLength === 0 ?\n",
              "          100 :\n",
              "          Math.round((position / fileData.byteLength) * 100);\n",
              "      percent.textContent = `${percentDone}% done`;\n",
              "\n",
              "    } while (position < fileData.byteLength);\n",
              "  }\n",
              "\n",
              "  // All done.\n",
              "  yield {\n",
              "    response: {\n",
              "      action: 'complete',\n",
              "    }\n",
              "  };\n",
              "}\n",
              "\n",
              "scope.google = scope.google || {};\n",
              "scope.google.colab = scope.google.colab || {};\n",
              "scope.google.colab._files = {\n",
              "  _uploadFiles,\n",
              "  _uploadFilesContinue,\n",
              "};\n",
              "})(self);\n",
              "</script> "
            ]
          },
          "metadata": {}
        },
        {
          "output_type": "stream",
          "name": "stdout",
          "text": [
            "Saving ski_resort_data.csv to ski_resort_data.csv\n"
          ]
        }
      ]
    },
    {
      "cell_type": "code",
      "execution_count": 23,
      "metadata": {
        "id": "iyAXVlPS94Pm"
      },
      "outputs": [],
      "source": [
        "#Code task 1#\n",
        "#Import pandas, matplotlib.pyplot, and seaborn in the correct lines below\n",
        "import pandas as pd\n",
        "import matplotlib.pyplot as plt\n",
        "import seaborn as sns\n",
        "import os\n"
      ]
    },
    {
      "cell_type": "markdown",
      "metadata": {
        "id": "RNkBn9Aa94Pn"
      },
      "source": [
        "## 2.4 Objectives<a id='2.4_Objectives'></a>"
      ]
    },
    {
      "cell_type": "markdown",
      "metadata": {
        "id": "5KcJL1Z894Pn"
      },
      "source": [
        "There are some fundamental questions to resolve in this notebook before you move on.\n",
        "\n",
        "* Do you think you may have the data you need to tackle the desired question?\n",
        "    * Have you identified the required target value?\n",
        "    * Do you have potentially useful features?\n",
        "* Do you have any fundamental issues with the data?"
      ]
    },
    {
      "cell_type": "markdown",
      "source": [
        "![PSW Ski Resort.png](data:image/png;base64,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)"
      ],
      "metadata": {
        "id": "mbRob-r_DJTQ"
      }
    },
    {
      "cell_type": "markdown",
      "metadata": {
        "id": "9kWecJQN94Pn"
      },
      "source": [
        "## 2.5 Load The Ski Resort Data<a id='2.5_Load_The_Ski_Resort_Data'></a>"
      ]
    },
    {
      "cell_type": "code",
      "execution_count": 25,
      "metadata": {
        "id": "svq_gr4K94Pn"
      },
      "outputs": [],
      "source": [
        "# the supplied CSV data file is the raw_data directory\n",
        "ski_data = pd.read_csv('ski_resort_data.csv')"
      ]
    },
    {
      "cell_type": "markdown",
      "metadata": {
        "id": "ZDMuKJYw94Po"
      },
      "source": [
        "Good first steps in auditing the data are the info method and displaying the first few records with head."
      ]
    },
    {
      "cell_type": "code",
      "execution_count": 27,
      "metadata": {
        "id": "o8_babFz94Po",
        "colab": {
          "base_uri": "https://localhost:8080/"
        },
        "outputId": "b6e008fa-7f9e-454d-e9a7-1e512c3a5b86"
      },
      "outputs": [
        {
          "output_type": "stream",
          "name": "stdout",
          "text": [
            "<class 'pandas.core.frame.DataFrame'>\n",
            "RangeIndex: 330 entries, 0 to 329\n",
            "Data columns (total 27 columns):\n",
            " #   Column             Non-Null Count  Dtype  \n",
            "---  ------             --------------  -----  \n",
            " 0   Name               330 non-null    object \n",
            " 1   Region             330 non-null    object \n",
            " 2   state              330 non-null    object \n",
            " 3   summit_elev        330 non-null    int64  \n",
            " 4   vertical_drop      330 non-null    int64  \n",
            " 5   base_elev          330 non-null    int64  \n",
            " 6   trams              330 non-null    int64  \n",
            " 7   fastEight          164 non-null    float64\n",
            " 8   fastSixes          330 non-null    int64  \n",
            " 9   fastQuads          330 non-null    int64  \n",
            " 10  quad               330 non-null    int64  \n",
            " 11  triple             330 non-null    int64  \n",
            " 12  double             330 non-null    int64  \n",
            " 13  surface            330 non-null    int64  \n",
            " 14  total_chairs       330 non-null    int64  \n",
            " 15  Runs               326 non-null    float64\n",
            " 16  TerrainParks       279 non-null    float64\n",
            " 17  LongestRun_mi      325 non-null    float64\n",
            " 18  SkiableTerrain_ac  327 non-null    float64\n",
            " 19  Snow Making_ac     284 non-null    float64\n",
            " 20  daysOpenLastYear   279 non-null    float64\n",
            " 21  yearsOpen          329 non-null    float64\n",
            " 22  averageSnowfall    316 non-null    float64\n",
            " 23  AdultWeekday       276 non-null    float64\n",
            " 24  AdultWeekend       279 non-null    float64\n",
            " 25  projectedDaysOpen  283 non-null    float64\n",
            " 26  NightSkiing_ac     187 non-null    float64\n",
            "dtypes: float64(13), int64(11), object(3)\n",
            "memory usage: 69.7+ KB\n"
          ]
        }
      ],
      "source": [
        "#Code task 2#\n",
        "#Call the info method on ski_data to see a summary of the data\n",
        "ski_data.info()"
      ]
    },
    {
      "cell_type": "markdown",
      "metadata": {
        "id": "yVbF4FoF94Po"
      },
      "source": [
        "`AdultWeekday` is the price of an adult weekday ticket. `AdultWeekend` is the price of an adult weekend ticket. The other columns are potential features."
      ]
    },
    {
      "cell_type": "markdown",
      "metadata": {
        "id": "SQiXSNjs94Po"
      },
      "source": [
        "This immediately raises the question of what quantity will you want to model? You know you want to model the ticket price, but you realise there are two kinds of ticket price!"
      ]
    },
    {
      "cell_type": "code",
      "execution_count": 28,
      "metadata": {
        "scrolled": true,
        "id": "tBfeRLsf94Po",
        "colab": {
          "base_uri": "https://localhost:8080/",
          "height": 421
        },
        "outputId": "3fb419e1-cc59-453c-c69d-5234a5b4ae21"
      },
      "outputs": [
        {
          "output_type": "execute_result",
          "data": {
            "text/plain": [
              "                  Name   Region    state  summit_elev  vertical_drop  \\\n",
              "0       Alyeska Resort   Alaska   Alaska         3939           2500   \n",
              "1  Eaglecrest Ski Area   Alaska   Alaska         2600           1540   \n",
              "2     Hilltop Ski Area   Alaska   Alaska         2090            294   \n",
              "3     Arizona Snowbowl  Arizona  Arizona        11500           2300   \n",
              "4  Sunrise Park Resort  Arizona  Arizona        11100           1800   \n",
              "\n",
              "   base_elev  trams  fastEight  fastSixes  fastQuads  ...  LongestRun_mi  \\\n",
              "0        250      1        0.0          0          2  ...            1.0   \n",
              "1       1200      0        0.0          0          0  ...            2.0   \n",
              "2       1796      0        0.0          0          0  ...            1.0   \n",
              "3       9200      0        0.0          1          0  ...            2.0   \n",
              "4       9200      0        NaN          0          1  ...            1.2   \n",
              "\n",
              "   SkiableTerrain_ac  Snow Making_ac  daysOpenLastYear  yearsOpen  \\\n",
              "0             1610.0           113.0             150.0       60.0   \n",
              "1              640.0            60.0              45.0       44.0   \n",
              "2               30.0            30.0             150.0       36.0   \n",
              "3              777.0           104.0             122.0       81.0   \n",
              "4              800.0            80.0             115.0       49.0   \n",
              "\n",
              "   averageSnowfall  AdultWeekday  AdultWeekend  projectedDaysOpen  \\\n",
              "0            669.0          65.0          85.0              150.0   \n",
              "1            350.0          47.0          53.0               90.0   \n",
              "2             69.0          30.0          34.0              152.0   \n",
              "3            260.0          89.0          89.0              122.0   \n",
              "4            250.0          74.0          78.0              104.0   \n",
              "\n",
              "   NightSkiing_ac  \n",
              "0           550.0  \n",
              "1             NaN  \n",
              "2            30.0  \n",
              "3             NaN  \n",
              "4            80.0  \n",
              "\n",
              "[5 rows x 27 columns]"
            ],
            "text/html": [
              "\n",
              "  <div id=\"df-9b6612ad-b3ce-4964-b898-d6170e3972b6\">\n",
              "    <div class=\"colab-df-container\">\n",
              "      <div>\n",
              "<style scoped>\n",
              "    .dataframe tbody tr th:only-of-type {\n",
              "        vertical-align: middle;\n",
              "    }\n",
              "\n",
              "    .dataframe tbody tr th {\n",
              "        vertical-align: top;\n",
              "    }\n",
              "\n",
              "    .dataframe thead th {\n",
              "        text-align: right;\n",
              "    }\n",
              "</style>\n",
              "<table border=\"1\" class=\"dataframe\">\n",
              "  <thead>\n",
              "    <tr style=\"text-align: right;\">\n",
              "      <th></th>\n",
              "      <th>Name</th>\n",
              "      <th>Region</th>\n",
              "      <th>state</th>\n",
              "      <th>summit_elev</th>\n",
              "      <th>vertical_drop</th>\n",
              "      <th>base_elev</th>\n",
              "      <th>trams</th>\n",
              "      <th>fastEight</th>\n",
              "      <th>fastSixes</th>\n",
              "      <th>fastQuads</th>\n",
              "      <th>...</th>\n",
              "      <th>LongestRun_mi</th>\n",
              "      <th>SkiableTerrain_ac</th>\n",
              "      <th>Snow Making_ac</th>\n",
              "      <th>daysOpenLastYear</th>\n",
              "      <th>yearsOpen</th>\n",
              "      <th>averageSnowfall</th>\n",
              "      <th>AdultWeekday</th>\n",
              "      <th>AdultWeekend</th>\n",
              "      <th>projectedDaysOpen</th>\n",
              "      <th>NightSkiing_ac</th>\n",
              "    </tr>\n",
              "  </thead>\n",
              "  <tbody>\n",
              "    <tr>\n",
              "      <th>0</th>\n",
              "      <td>Alyeska Resort</td>\n",
              "      <td>Alaska</td>\n",
              "      <td>Alaska</td>\n",
              "      <td>3939</td>\n",
              "      <td>2500</td>\n",
              "      <td>250</td>\n",
              "      <td>1</td>\n",
              "      <td>0.0</td>\n",
              "      <td>0</td>\n",
              "      <td>2</td>\n",
              "      <td>...</td>\n",
              "      <td>1.0</td>\n",
              "      <td>1610.0</td>\n",
              "      <td>113.0</td>\n",
              "      <td>150.0</td>\n",
              "      <td>60.0</td>\n",
              "      <td>669.0</td>\n",
              "      <td>65.0</td>\n",
              "      <td>85.0</td>\n",
              "      <td>150.0</td>\n",
              "      <td>550.0</td>\n",
              "    </tr>\n",
              "    <tr>\n",
              "      <th>1</th>\n",
              "      <td>Eaglecrest Ski Area</td>\n",
              "      <td>Alaska</td>\n",
              "      <td>Alaska</td>\n",
              "      <td>2600</td>\n",
              "      <td>1540</td>\n",
              "      <td>1200</td>\n",
              "      <td>0</td>\n",
              "      <td>0.0</td>\n",
              "      <td>0</td>\n",
              "      <td>0</td>\n",
              "      <td>...</td>\n",
              "      <td>2.0</td>\n",
              "      <td>640.0</td>\n",
              "      <td>60.0</td>\n",
              "      <td>45.0</td>\n",
              "      <td>44.0</td>\n",
              "      <td>350.0</td>\n",
              "      <td>47.0</td>\n",
              "      <td>53.0</td>\n",
              "      <td>90.0</td>\n",
              "      <td>NaN</td>\n",
              "    </tr>\n",
              "    <tr>\n",
              "      <th>2</th>\n",
              "      <td>Hilltop Ski Area</td>\n",
              "      <td>Alaska</td>\n",
              "      <td>Alaska</td>\n",
              "      <td>2090</td>\n",
              "      <td>294</td>\n",
              "      <td>1796</td>\n",
              "      <td>0</td>\n",
              "      <td>0.0</td>\n",
              "      <td>0</td>\n",
              "      <td>0</td>\n",
              "      <td>...</td>\n",
              "      <td>1.0</td>\n",
              "      <td>30.0</td>\n",
              "      <td>30.0</td>\n",
              "      <td>150.0</td>\n",
              "      <td>36.0</td>\n",
              "      <td>69.0</td>\n",
              "      <td>30.0</td>\n",
              "      <td>34.0</td>\n",
              "      <td>152.0</td>\n",
              "      <td>30.0</td>\n",
              "    </tr>\n",
              "    <tr>\n",
              "      <th>3</th>\n",
              "      <td>Arizona Snowbowl</td>\n",
              "      <td>Arizona</td>\n",
              "      <td>Arizona</td>\n",
              "      <td>11500</td>\n",
              "      <td>2300</td>\n",
              "      <td>9200</td>\n",
              "      <td>0</td>\n",
              "      <td>0.0</td>\n",
              "      <td>1</td>\n",
              "      <td>0</td>\n",
              "      <td>...</td>\n",
              "      <td>2.0</td>\n",
              "      <td>777.0</td>\n",
              "      <td>104.0</td>\n",
              "      <td>122.0</td>\n",
              "      <td>81.0</td>\n",
              "      <td>260.0</td>\n",
              "      <td>89.0</td>\n",
              "      <td>89.0</td>\n",
              "      <td>122.0</td>\n",
              "      <td>NaN</td>\n",
              "    </tr>\n",
              "    <tr>\n",
              "      <th>4</th>\n",
              "      <td>Sunrise Park Resort</td>\n",
              "      <td>Arizona</td>\n",
              "      <td>Arizona</td>\n",
              "      <td>11100</td>\n",
              "      <td>1800</td>\n",
              "      <td>9200</td>\n",
              "      <td>0</td>\n",
              "      <td>NaN</td>\n",
              "      <td>0</td>\n",
              "      <td>1</td>\n",
              "      <td>...</td>\n",
              "      <td>1.2</td>\n",
              "      <td>800.0</td>\n",
              "      <td>80.0</td>\n",
              "      <td>115.0</td>\n",
              "      <td>49.0</td>\n",
              "      <td>250.0</td>\n",
              "      <td>74.0</td>\n",
              "      <td>78.0</td>\n",
              "      <td>104.0</td>\n",
              "      <td>80.0</td>\n",
              "    </tr>\n",
              "  </tbody>\n",
              "</table>\n",
              "<p>5 rows × 27 columns</p>\n",
              "</div>\n",
              "      <button class=\"colab-df-convert\" onclick=\"convertToInteractive('df-9b6612ad-b3ce-4964-b898-d6170e3972b6')\"\n",
              "              title=\"Convert this dataframe to an interactive table.\"\n",
              "              style=\"display:none;\">\n",
              "        \n",
              "  <svg xmlns=\"http://www.w3.org/2000/svg\" height=\"24px\"viewBox=\"0 0 24 24\"\n",
              "       width=\"24px\">\n",
              "    <path d=\"M0 0h24v24H0V0z\" fill=\"none\"/>\n",
              "    <path d=\"M18.56 5.44l.94 2.06.94-2.06 2.06-.94-2.06-.94-.94-2.06-.94 2.06-2.06.94zm-11 1L8.5 8.5l.94-2.06 2.06-.94-2.06-.94L8.5 2.5l-.94 2.06-2.06.94zm10 10l.94 2.06.94-2.06 2.06-.94-2.06-.94-.94-2.06-.94 2.06-2.06.94z\"/><path d=\"M17.41 7.96l-1.37-1.37c-.4-.4-.92-.59-1.43-.59-.52 0-1.04.2-1.43.59L10.3 9.45l-7.72 7.72c-.78.78-.78 2.05 0 2.83L4 21.41c.39.39.9.59 1.41.59.51 0 1.02-.2 1.41-.59l7.78-7.78 2.81-2.81c.8-.78.8-2.07 0-2.86zM5.41 20L4 18.59l7.72-7.72 1.47 1.35L5.41 20z\"/>\n",
              "  </svg>\n",
              "      </button>\n",
              "      \n",
              "  <style>\n",
              "    .colab-df-container {\n",
              "      display:flex;\n",
              "      flex-wrap:wrap;\n",
              "      gap: 12px;\n",
              "    }\n",
              "\n",
              "    .colab-df-convert {\n",
              "      background-color: #E8F0FE;\n",
              "      border: none;\n",
              "      border-radius: 50%;\n",
              "      cursor: pointer;\n",
              "      display: none;\n",
              "      fill: #1967D2;\n",
              "      height: 32px;\n",
              "      padding: 0 0 0 0;\n",
              "      width: 32px;\n",
              "    }\n",
              "\n",
              "    .colab-df-convert:hover {\n",
              "      background-color: #E2EBFA;\n",
              "      box-shadow: 0px 1px 2px rgba(60, 64, 67, 0.3), 0px 1px 3px 1px rgba(60, 64, 67, 0.15);\n",
              "      fill: #174EA6;\n",
              "    }\n",
              "\n",
              "    [theme=dark] .colab-df-convert {\n",
              "      background-color: #3B4455;\n",
              "      fill: #D2E3FC;\n",
              "    }\n",
              "\n",
              "    [theme=dark] .colab-df-convert:hover {\n",
              "      background-color: #434B5C;\n",
              "      box-shadow: 0px 1px 3px 1px rgba(0, 0, 0, 0.15);\n",
              "      filter: drop-shadow(0px 1px 2px rgba(0, 0, 0, 0.3));\n",
              "      fill: #FFFFFF;\n",
              "    }\n",
              "  </style>\n",
              "\n",
              "      <script>\n",
              "        const buttonEl =\n",
              "          document.querySelector('#df-9b6612ad-b3ce-4964-b898-d6170e3972b6 button.colab-df-convert');\n",
              "        buttonEl.style.display =\n",
              "          google.colab.kernel.accessAllowed ? 'block' : 'none';\n",
              "\n",
              "        async function convertToInteractive(key) {\n",
              "          const element = document.querySelector('#df-9b6612ad-b3ce-4964-b898-d6170e3972b6');\n",
              "          const dataTable =\n",
              "            await google.colab.kernel.invokeFunction('convertToInteractive',\n",
              "                                                     [key], {});\n",
              "          if (!dataTable) return;\n",
              "\n",
              "          const docLinkHtml = 'Like what you see? Visit the ' +\n",
              "            '<a target=\"_blank\" href=https://colab.research.google.com/notebooks/data_table.ipynb>data table notebook</a>'\n",
              "            + ' to learn more about interactive tables.';\n",
              "          element.innerHTML = '';\n",
              "          dataTable['output_type'] = 'display_data';\n",
              "          await google.colab.output.renderOutput(dataTable, element);\n",
              "          const docLink = document.createElement('div');\n",
              "          docLink.innerHTML = docLinkHtml;\n",
              "          element.appendChild(docLink);\n",
              "        }\n",
              "      </script>\n",
              "    </div>\n",
              "  </div>\n",
              "  "
            ]
          },
          "metadata": {},
          "execution_count": 28
        }
      ],
      "source": [
        "#Code task 3#\n",
        "#Call the head method on ski_data to print the first several rows of the data\n",
        "ski_data.head()"
      ]
    },
    {
      "cell_type": "markdown",
      "metadata": {
        "id": "kqokX_8894Po"
      },
      "source": [
        "The output above suggests you've made a good start getting the ski resort data organized. You have plausible column headings. You can already see you have a missing value in the `fastEight` column"
      ]
    },
    {
      "cell_type": "markdown",
      "metadata": {
        "id": "_JzQSVKC94Pp"
      },
      "source": [
        "## 2.6 Explore The Data<a id='2.6_Explore_The_Data'></a>"
      ]
    },
    {
      "cell_type": "markdown",
      "metadata": {
        "id": "XzmYVMNk94Pp"
      },
      "source": [
        "### 2.6.1 Find Your Resort Of Interest<a id='2.6.1_Find_Your_Resort_Of_Interest'></a>"
      ]
    },
    {
      "cell_type": "markdown",
      "metadata": {
        "id": "X2x8AZMT94Pp"
      },
      "source": [
        "Your resort of interest is called Big Mountain Resort. Check it's in the data:"
      ]
    },
    {
      "cell_type": "code",
      "execution_count": null,
      "metadata": {
        "id": "sCU6IadP94Pp"
      },
      "outputs": [],
      "source": [
        "#Code task 4#\n",
        "#Filter the ski_data dataframe to display just the row for our resort with the name 'Big Mountain Resort'\n",
        "#Hint: you will find that the transpose of the row will give a nicer output. DataFrame's do have a\n",
        "#transpose method, but you can access this conveniently with the `T` property.\n",
        "ski_data[ski_data.Name == ___].___"
      ]
    },
    {
      "cell_type": "markdown",
      "metadata": {
        "id": "jueqT_Um94Pp"
      },
      "source": [
        "It's good that your resort doesn't appear to have any missing values."
      ]
    },
    {
      "cell_type": "markdown",
      "metadata": {
        "id": "ZvWm5gH994Pp"
      },
      "source": [
        "### 2.6.2 Number Of Missing Values By Column<a id='2.6.2_Number_Of_Missing_Values_By_Column'></a>"
      ]
    },
    {
      "cell_type": "markdown",
      "metadata": {
        "id": "ZtJrPaLI94Pq"
      },
      "source": [
        "Count the number of missing values in each column and sort them."
      ]
    },
    {
      "cell_type": "code",
      "execution_count": null,
      "metadata": {
        "id": "5-uxeQBA94Pq"
      },
      "outputs": [],
      "source": [
        "#Code task 5#\n",
        "#Count (using `.sum()`) the number of missing values (`.isnull()`) in each column of \n",
        "#ski_data as well as the percentages (using `.mean()` instead of `.sum()`).\n",
        "#Order them (increasing or decreasing) using sort_values\n",
        "#Call `pd.concat` to present these in a single table (DataFrame) with the helpful column names 'count' and '%'\n",
        "missing = ___([ski_data.___.___, 100 * ski_data.___.___], axis=1)\n",
        "missing.columns=[___, ___]\n",
        "missing.___(by=___)"
      ]
    },
    {
      "cell_type": "markdown",
      "metadata": {
        "id": "GFxnQJmc94Pq"
      },
      "source": [
        "`fastEight` has the most missing values, at just over 50%. Unfortunately, you see you're also missing quite a few of your desired target quantity, the ticket price, which is missing 15-16% of values. `AdultWeekday` is missing in a few more records than `AdultWeekend`. What overlap is there in these missing values? This is a question you'll want to investigate. You should also point out that `isnull()` is not the only indicator of missing data. Sometimes 'missingness' can be encoded, perhaps by a -1 or 999. Such values are typically chosen because they are \"obviously\" not genuine values. If you were capturing data on people's heights and weights but missing someone's height, you could certainly encode that as a 0 because no one has a height of zero (in any units). Yet such entries would not be revealed by `isnull()`. Here, you need a data dictionary and/or to spot such values as part of looking for outliers. Someone with a height of zero should definitely show up as an outlier!"
      ]
    },
    {
      "cell_type": "markdown",
      "metadata": {
        "id": "bf8ki7wJ94Pq"
      },
      "source": [
        "### 2.6.3 Categorical Features<a id='2.6.3_Categorical_Features'></a>"
      ]
    },
    {
      "cell_type": "markdown",
      "metadata": {
        "id": "dAqS5m2W94Pq"
      },
      "source": [
        "So far you've examined only the numeric features. Now you inspect categorical ones such as resort name and state. These are discrete entities. 'Alaska' is a name. Although names can be sorted alphabetically, it makes no sense to take the average of 'Alaska' and 'Arizona'. Similarly, 'Alaska' is before 'Arizona' only lexicographically; it is neither 'less than' nor 'greater than' 'Arizona'. As such, they tend to require different handling than strictly numeric quantities. Note, a feature _can_ be numeric but also categorical. For example, instead of giving the number of `fastEight` lifts, a feature might be `has_fastEights` and have the value 0 or 1 to denote absence or presence of such a lift. In such a case it would not make sense to take an average of this or perform other mathematical calculations on it. Although you digress a little to make a point, month numbers are also, strictly speaking, categorical features. Yes, when a month is represented by its number (1 for January, 2 for Februrary etc.) it provides a convenient way to graph trends over a year. And, arguably, there is some logical interpretation of the average of 1 and 3 (January and March) being 2 (February). However, clearly December of one years precedes January of the next and yet 12 as a number is not less than 1. The numeric quantities in the section above are truly numeric; they are the number of feet in the drop, or acres or years open or the amount of snowfall etc."
      ]
    },
    {
      "cell_type": "code",
      "execution_count": null,
      "metadata": {
        "id": "EelgS22J94Pq"
      },
      "outputs": [],
      "source": [
        "#Code task 6#\n",
        "#Use ski_data's `select_dtypes` method to select columns of dtype 'object'\n",
        "ski_data.___(___)"
      ]
    },
    {
      "cell_type": "markdown",
      "metadata": {
        "id": "XkinAj5194Pr"
      },
      "source": [
        "You saw earlier on that these three columns had no missing values. But are there any other issues with these columns? Sensible questions to ask here include:\n",
        "\n",
        "* Is `Name` (or at least a combination of Name/Region/State) unique?\n",
        "* Is `Region` always the same as `state`?"
      ]
    },
    {
      "cell_type": "markdown",
      "metadata": {
        "id": "fr-Sb9LU94Pr"
      },
      "source": [
        "#### 2.6.3.1 Unique Resort Names<a id='2.6.3.1_Unique_Resort_Names'></a>"
      ]
    },
    {
      "cell_type": "code",
      "execution_count": null,
      "metadata": {
        "id": "seLPFcS894Pr"
      },
      "outputs": [],
      "source": [
        "#Code task 7#\n",
        "#Use pandas' Series method `value_counts` to find any duplicated resort names\n",
        "ski_data['Name'].___.head()"
      ]
    },
    {
      "cell_type": "markdown",
      "metadata": {
        "id": "m5hn1ein94Pr"
      },
      "source": [
        "You have a duplicated resort name: Crystal Mountain."
      ]
    },
    {
      "cell_type": "markdown",
      "metadata": {
        "id": "DZVkoZI394Pr"
      },
      "source": [
        "**Q: 1** Is this resort duplicated if you take into account Region and/or state as well?"
      ]
    },
    {
      "cell_type": "code",
      "execution_count": null,
      "metadata": {
        "id": "pQ3dikC994Pr"
      },
      "outputs": [],
      "source": [
        "#Code task 8#\n",
        "#Concatenate the string columns 'Name' and 'Region' and count the values again (as above)\n",
        "(ski_data[___] + ', ' + ski_data[___]).___.head()"
      ]
    },
    {
      "cell_type": "code",
      "execution_count": null,
      "metadata": {
        "id": "T56AdZX594Ps"
      },
      "outputs": [],
      "source": [
        "#Code task 9#\n",
        "#Concatenate 'Name' and 'state' and count the values again (as above)\n",
        "(ski_data[___] + ', ' + ski_data[___]).___.head()"
      ]
    },
    {
      "cell_type": "code",
      "execution_count": null,
      "metadata": {
        "id": "V_9PgGyw94Ps"
      },
      "outputs": [],
      "source": [
        "**NB** because you know `value_counts()` sorts descending, you can use the `head()` method and know the rest of the counts must be 1."
      ]
    },
    {
      "cell_type": "markdown",
      "metadata": {
        "id": "n_gKYZuX94Ps"
      },
      "source": [
        "**A: 1** Your answer here"
      ]
    },
    {
      "cell_type": "code",
      "execution_count": null,
      "metadata": {
        "id": "QRr5E8OR94Ps",
        "outputId": "7bee0b2a-cc27-4109-bb94-c74ff563ccef"
      },
      "outputs": [
        {
          "data": {
            "text/html": [
              "<div>\n",
              "<style scoped>\n",
              "    .dataframe tbody tr th:only-of-type {\n",
              "        vertical-align: middle;\n",
              "    }\n",
              "\n",
              "    .dataframe tbody tr th {\n",
              "        vertical-align: top;\n",
              "    }\n",
              "\n",
              "    .dataframe thead th {\n",
              "        text-align: right;\n",
              "    }\n",
              "</style>\n",
              "<table border=\"1\" class=\"dataframe\">\n",
              "  <thead>\n",
              "    <tr style=\"text-align: right;\">\n",
              "      <th></th>\n",
              "      <th>Name</th>\n",
              "      <th>Region</th>\n",
              "      <th>state</th>\n",
              "      <th>summit_elev</th>\n",
              "      <th>vertical_drop</th>\n",
              "      <th>base_elev</th>\n",
              "      <th>trams</th>\n",
              "      <th>fastEight</th>\n",
              "      <th>fastSixes</th>\n",
              "      <th>fastQuads</th>\n",
              "      <th>...</th>\n",
              "      <th>LongestRun_mi</th>\n",
              "      <th>SkiableTerrain_ac</th>\n",
              "      <th>Snow Making_ac</th>\n",
              "      <th>daysOpenLastYear</th>\n",
              "      <th>yearsOpen</th>\n",
              "      <th>averageSnowfall</th>\n",
              "      <th>AdultWeekday</th>\n",
              "      <th>AdultWeekend</th>\n",
              "      <th>projectedDaysOpen</th>\n",
              "      <th>NightSkiing_ac</th>\n",
              "    </tr>\n",
              "  </thead>\n",
              "  <tbody>\n",
              "    <tr>\n",
              "      <th>104</th>\n",
              "      <td>Crystal Mountain</td>\n",
              "      <td>Michigan</td>\n",
              "      <td>Michigan</td>\n",
              "      <td>1132</td>\n",
              "      <td>375</td>\n",
              "      <td>757</td>\n",
              "      <td>0</td>\n",
              "      <td>0.0</td>\n",
              "      <td>0</td>\n",
              "      <td>1</td>\n",
              "      <td>...</td>\n",
              "      <td>0.3</td>\n",
              "      <td>102.0</td>\n",
              "      <td>96.0</td>\n",
              "      <td>120.0</td>\n",
              "      <td>63.0</td>\n",
              "      <td>132.0</td>\n",
              "      <td>54.0</td>\n",
              "      <td>64.0</td>\n",
              "      <td>135.0</td>\n",
              "      <td>56.0</td>\n",
              "    </tr>\n",
              "    <tr>\n",
              "      <th>295</th>\n",
              "      <td>Crystal Mountain</td>\n",
              "      <td>Washington</td>\n",
              "      <td>Washington</td>\n",
              "      <td>7012</td>\n",
              "      <td>3100</td>\n",
              "      <td>4400</td>\n",
              "      <td>1</td>\n",
              "      <td>NaN</td>\n",
              "      <td>2</td>\n",
              "      <td>2</td>\n",
              "      <td>...</td>\n",
              "      <td>2.5</td>\n",
              "      <td>2600.0</td>\n",
              "      <td>10.0</td>\n",
              "      <td>NaN</td>\n",
              "      <td>57.0</td>\n",
              "      <td>486.0</td>\n",
              "      <td>99.0</td>\n",
              "      <td>99.0</td>\n",
              "      <td>NaN</td>\n",
              "      <td>NaN</td>\n",
              "    </tr>\n",
              "  </tbody>\n",
              "</table>\n",
              "<p>2 rows × 27 columns</p>\n",
              "</div>"
            ],
            "text/plain": [
              "                 Name      Region       state  summit_elev  vertical_drop  \\\n",
              "104  Crystal Mountain    Michigan    Michigan         1132            375   \n",
              "295  Crystal Mountain  Washington  Washington         7012           3100   \n",
              "\n",
              "     base_elev  trams  fastEight  fastSixes  fastQuads  ...  LongestRun_mi  \\\n",
              "104        757      0        0.0          0          1  ...            0.3   \n",
              "295       4400      1        NaN          2          2  ...            2.5   \n",
              "\n",
              "     SkiableTerrain_ac  Snow Making_ac  daysOpenLastYear  yearsOpen  \\\n",
              "104              102.0            96.0             120.0       63.0   \n",
              "295             2600.0            10.0               NaN       57.0   \n",
              "\n",
              "     averageSnowfall  AdultWeekday  AdultWeekend  projectedDaysOpen  \\\n",
              "104            132.0          54.0          64.0              135.0   \n",
              "295            486.0          99.0          99.0                NaN   \n",
              "\n",
              "     NightSkiing_ac  \n",
              "104            56.0  \n",
              "295             NaN  \n",
              "\n",
              "[2 rows x 27 columns]"
            ]
          },
          "execution_count": 11,
          "metadata": {},
          "output_type": "execute_result"
        }
      ],
      "source": [
        "ski_data[ski_data['Name'] == 'Crystal Mountain']"
      ]
    },
    {
      "cell_type": "markdown",
      "metadata": {
        "id": "3jFI9RoV94Pt"
      },
      "source": [
        "So there are two Crystal Mountain resorts, but they are clearly two different resorts in two different states. This is a powerful signal that you have unique records on each row."
      ]
    },
    {
      "cell_type": "markdown",
      "metadata": {
        "id": "7UTKujw294Pt"
      },
      "source": [
        "#### 2.6.3.2 Region And State<a id='2.6.3.2_Region_And_State'></a>"
      ]
    },
    {
      "cell_type": "markdown",
      "metadata": {
        "id": "SRuQOLGx94Pt"
      },
      "source": [
        "What's the relationship between region and state?"
      ]
    },
    {
      "cell_type": "markdown",
      "metadata": {
        "id": "tvCmC_9094Pt"
      },
      "source": [
        "You know they are the same in many cases (e.g. both the Region and the state are given as 'Michigan'). In how many cases do they differ?"
      ]
    },
    {
      "cell_type": "code",
      "execution_count": null,
      "metadata": {
        "id": "WCCOoMLv94Pt"
      },
      "outputs": [],
      "source": [
        "#Code task 10#\n",
        "#Calculate the number of times Region does not equal state\n",
        "(ski_data.Region ___ ski_data.state).___"
      ]
    },
    {
      "cell_type": "markdown",
      "metadata": {
        "id": "hOYEaUqY94Pt"
      },
      "source": [
        "You know what a state is. What is a region? You can tabulate the distinct values along with their respective frequencies using `value_counts()`."
      ]
    },
    {
      "cell_type": "code",
      "execution_count": null,
      "metadata": {
        "id": "UNnLRUO_94Pu",
        "outputId": "acba9e2b-6696-492b-c0c4-d3472edb25d3"
      },
      "outputs": [
        {
          "data": {
            "text/plain": [
              "New York               33\n",
              "Michigan               29\n",
              "Sierra Nevada          22\n",
              "Colorado               22\n",
              "Pennsylvania           19\n",
              "Wisconsin              16\n",
              "New Hampshire          16\n",
              "Vermont                15\n",
              "Minnesota              14\n",
              "Montana                12\n",
              "Idaho                  12\n",
              "Massachusetts          11\n",
              "Washington             10\n",
              "Maine                   9\n",
              "New Mexico              9\n",
              "Wyoming                 8\n",
              "Utah                    7\n",
              "Oregon                  6\n",
              "Salt Lake City          6\n",
              "North Carolina          6\n",
              "Connecticut             5\n",
              "Ohio                    5\n",
              "West Virginia           4\n",
              "Virginia                4\n",
              "Mt. Hood                4\n",
              "Illinois                4\n",
              "Alaska                  3\n",
              "Iowa                    3\n",
              "Missouri                2\n",
              "Arizona                 2\n",
              "Indiana                 2\n",
              "South Dakota            2\n",
              "New Jersey              2\n",
              "Nevada                  2\n",
              "Rhode Island            1\n",
              "Maryland                1\n",
              "Tennessee               1\n",
              "Northern California     1\n",
              "Name: Region, dtype: int64"
            ]
          },
          "execution_count": 13,
          "metadata": {},
          "output_type": "execute_result"
        }
      ],
      "source": [
        "ski_data['Region'].value_counts()"
      ]
    },
    {
      "cell_type": "markdown",
      "metadata": {
        "id": "uXnLclhk94Pu"
      },
      "source": [
        "A casual inspection by eye reveals some non-state names such as Sierra Nevada, Salt Lake City, and Northern California. Tabulate the differences between Region and state. On a note regarding scaling to larger data sets, you might wonder how you could spot such cases when presented with millions of rows. This is an interesting point. Imagine you have access to a database with a Region and state column in a table and there are millions of rows. You wouldn't eyeball all the rows looking for differences! Bear in mind that our first interest lies in establishing the answer to the question \"Are they always the same?\" One approach might be to ask the database to return records where they differ, but limit the output to 10 rows. If there were differences, you'd only get up to 10 results, and so you wouldn't know whether you'd located all differences, but you'd know that there were 'a nonzero number' of differences. If you got an empty result set back, then you would know that the two columns always had the same value. At the risk of digressing, some values in one column only might be NULL (missing) and different databases treat NULL differently, so be aware that on many an occasion a seamingly 'simple' question gets very interesting to answer very quickly!"
      ]
    },
    {
      "cell_type": "code",
      "execution_count": null,
      "metadata": {
        "id": "U0PRHMgD94Pu"
      },
      "outputs": [],
      "source": [
        "#Code task 11#\n",
        "#Filter the ski_data dataframe for rows where 'Region' and 'state' are different,\n",
        "#group that by 'state' and perform `value_counts` on the 'Region'\n",
        "(ski_data[ski_data.___ ___ ski_data.___]\n",
        " .groupby(___)[___]\n",
        " .value_counts())"
      ]
    },
    {
      "cell_type": "markdown",
      "metadata": {
        "id": "nwFcXKkj94Pu"
      },
      "source": [
        "The vast majority of the differences are in California, with most Regions being called Sierra Nevada and just one referred to as Northern California."
      ]
    },
    {
      "cell_type": "markdown",
      "metadata": {
        "id": "HENoH7KY94Pu"
      },
      "source": [
        "#### 2.6.3.3 Number of distinct regions and states<a id='2.6.3.3_Number_of_distinct_regions_and_states'></a>"
      ]
    },
    {
      "cell_type": "code",
      "execution_count": null,
      "metadata": {
        "id": "KHbvOmy_94Pu"
      },
      "outputs": [],
      "source": [
        "#Code task 12#\n",
        "#Select the 'Region' and 'state' columns from ski_data and use the `nunique` method to calculate\n",
        "#the number of unique values in each\n",
        "ski_data[[___, ___]].___"
      ]
    },
    {
      "cell_type": "markdown",
      "metadata": {
        "id": "_jkTlDzc94Pv"
      },
      "source": [
        "Because a few states are split across multiple named regions, there are slightly more unique regions than states."
      ]
    },
    {
      "cell_type": "markdown",
      "metadata": {
        "id": "lSKGD_kS94Pv"
      },
      "source": [
        "#### 2.6.3.4 Distribution Of Resorts By Region And State<a id='2.6.3.4_Distribution_Of_Resorts_By_Region_And_State'></a>"
      ]
    },
    {
      "cell_type": "markdown",
      "metadata": {
        "id": "61GQjwe894Pv"
      },
      "source": [
        "If this is your first time using [matplotlib](https://matplotlib.org/3.2.2/index.html)'s [subplots](https://matplotlib.org/3.2.2/api/_as_gen/matplotlib.pyplot.subplots.html), you may find the online documentation useful."
      ]
    },
    {
      "cell_type": "code",
      "execution_count": null,
      "metadata": {
        "id": "79x-FMzv94Pv"
      },
      "outputs": [],
      "source": [
        "#Code task 13#\n",
        "#Create two subplots on 1 row and 2 columns with a figsize of (12, 8)\n",
        "fig, ax = plt.subplots(___, ___, figsize=(___))\n",
        "#Specify a horizontal barplot ('barh') as kind of plot (kind=)\n",
        "ski_data.Region.value_counts().plot(kind=___, ax=ax[0])\n",
        "#Give the plot a helpful title of 'Region'\n",
        "ax[0].set_title(___)\n",
        "#Label the xaxis 'Count'\n",
        "ax[0].set_xlabel(___)\n",
        "#Specify a horizontal barplot ('barh') as kind of plot (kind=)\n",
        "ski_data.state.value_counts().plot(kind=___, ax=ax[1])\n",
        "#Give the plot a helpful title of 'state'\n",
        "ax[1].set_title(___)\n",
        "#Label the xaxis 'Count'\n",
        "ax[1].set_xlabel(___)\n",
        "#Give the subplots a little \"breathing room\" with a wspace of 0.5\n",
        "plt.subplots_adjust(wspace=___);\n",
        "#You're encouraged to explore a few different figure sizes, orientations, and spacing here\n",
        "# as the importance of easy-to-read and informative figures is frequently understated\n",
        "# and you will find the ability to tweak figures invaluable later on"
      ]
    },
    {
      "cell_type": "markdown",
      "metadata": {
        "id": "-vTbkXjD94Pv"
      },
      "source": [
        "How's your geography? Looking at the distribution of States, you see New York accounting for the majority of resorts. Our target resort is in Montana, which comes in at 13th place. You should think carefully about how, or whether, you use this information. Does New York command a premium because of its proximity to population? Even if a resort's State were a useful predictor of ticket price, your main interest lies in Montana. Would you want a model that is skewed for accuracy by New York? Should you just filter for Montana and create a Montana-specific model? This would slash your available data volume. Your problem task includes the contextual insight that the data are for resorts all belonging to the same market share. This suggests one might expect prices to be similar amongst them. You can look into this. A boxplot grouped by State is an ideal way to quickly compare prices. Another side note worth bringing up here is that, in reality, the best approach here definitely would include consulting with the client or other domain expert. They might know of good reasons for treating states equivalently or differently. The data scientist is rarely the final arbiter of such a decision. But here, you'll see if we can find any supporting evidence for treating states the same or differently."
      ]
    },
    {
      "cell_type": "markdown",
      "metadata": {
        "id": "aK0gpx2-94Pv"
      },
      "source": [
        "#### 2.6.3.5 Distribution Of Ticket Price By State<a id='2.6.3.5_Distribution_Of_Ticket_Price_By_State'></a>"
      ]
    },
    {
      "cell_type": "markdown",
      "metadata": {
        "id": "DWBtIfQs94Pw"
      },
      "source": [
        "Our primary focus is our Big Mountain resort, in Montana. Does the state give you any clues to help decide what your primary target response feature should be (weekend or weekday ticket prices)?"
      ]
    },
    {
      "cell_type": "markdown",
      "metadata": {
        "id": "b-r_FhyL94Pw"
      },
      "source": [
        "##### 2.6.3.5.1 Average weekend and weekday price by state<a id='2.6.3.5.1_Average_weekend_and_weekday_price_by_state'></a>"
      ]
    },
    {
      "cell_type": "code",
      "execution_count": null,
      "metadata": {
        "id": "1-H2fRIS94Pw"
      },
      "outputs": [],
      "source": [
        "#Code task 14#\n",
        "# Calculate average weekday and weekend price by state and sort by the average of the two\n",
        "# Hint: use the pattern dataframe.groupby(<grouping variable>)[<list of columns>].mean()\n",
        "state_price_means = ski_data.___(___)[[___, ___]].mean()\n",
        "state_price_means.head()"
      ]
    },
    {
      "cell_type": "code",
      "execution_count": null,
      "metadata": {
        "id": "-CRJxzru94Pw",
        "outputId": "3a4017d5-cab1-433c-f106-7245414353fc"
      },
      "outputs": [
        {
          "data": {
            "image/png": "[encoded data removed]",
            "text/plain": [
              "<Figure size 720x720 with 1 Axes>"
            ]
          },
          "metadata": {
            "needs_background": "light"
          },
          "output_type": "display_data"
        }
      ],
      "source": [
        "# The next bit simply reorders the index by increasing average of weekday and weekend prices\n",
        "# Compare the index order you get from\n",
        "# state_price_means.index\n",
        "# with\n",
        "# state_price_means.mean(axis=1).sort_values(ascending=False).index\n",
        "# See how this expression simply sits within the reindex()\n",
        "(state_price_means.reindex(index=state_price_means.mean(axis=1)\n",
        "    .sort_values(ascending=False)\n",
        "    .index)\n",
        "    .plot(kind='barh', figsize=(10, 10), title='Average ticket price by State'))\n",
        "plt.xlabel('Price ($)');"
      ]
    },
    {
      "cell_type": "code",
      "execution_count": null,
      "metadata": {
        "id": "B9-VgqbD94Pw"
      },
      "outputs": [],
      "source": [
        "The figure above represents a dataframe with two columns, one for the average prices of each kind of ticket. This tells you how the average ticket price varies from state to state. But can you get more insight into the difference in the distributions between states?"
      ]
    },
    {
      "cell_type": "markdown",
      "metadata": {
        "id": "W3kXexZZ94Pw"
      },
      "source": [
        "##### 2.6.3.5.2 Distribution of weekday and weekend price by state<a id='2.6.3.5.2_Distribution_of_weekday_and_weekend_price_by_state'></a>"
      ]
    },
    {
      "cell_type": "markdown",
      "metadata": {
        "id": "R8ugDgER94Px"
      },
      "source": [
        "Next, you can transform the data into a single column for price with a new categorical column that represents the ticket type."
      ]
    },
    {
      "cell_type": "code",
      "execution_count": null,
      "metadata": {
        "id": "3j_-Ve6U94Px"
      },
      "outputs": [],
      "source": [
        "#Code task 15#\n",
        "#Use the pd.melt function, pass in the ski_data columns 'state', 'AdultWeekday', and 'Adultweekend' only,\n",
        "#specify 'state' for `id_vars`\n",
        "#gather the ticket prices from the 'Adultweekday' and 'AdultWeekend' columns using the `value_vars` argument,\n",
        "#call the resultant price column 'Price' via the `value_name` argument,\n",
        "#name the weekday/weekend indicator column 'Ticket' via the `var_name` argument\n",
        "ticket_prices = pd.melt(ski_data[[___, ___, ___]], \n",
        "                        id_vars=___, \n",
        "                        var_name=___, \n",
        "                        value_vars=[___, ___], \n",
        "                        value_name=___)"
      ]
    },
    {
      "cell_type": "code",
      "execution_count": null,
      "metadata": {
        "id": "CB3Mc0B994Px",
        "outputId": "4f8c8e7b-63b1-4e30-84d1-714fa4e8a448"
      },
      "outputs": [
        {
          "data": {
            "text/html": [
              "<div>\n",
              "<style scoped>\n",
              "    .dataframe tbody tr th:only-of-type {\n",
              "        vertical-align: middle;\n",
              "    }\n",
              "\n",
              "    .dataframe tbody tr th {\n",
              "        vertical-align: top;\n",
              "    }\n",
              "\n",
              "    .dataframe thead th {\n",
              "        text-align: right;\n",
              "    }\n",
              "</style>\n",
              "<table border=\"1\" class=\"dataframe\">\n",
              "  <thead>\n",
              "    <tr style=\"text-align: right;\">\n",
              "      <th></th>\n",
              "      <th>state</th>\n",
              "      <th>Ticket</th>\n",
              "      <th>Price</th>\n",
              "    </tr>\n",
              "  </thead>\n",
              "  <tbody>\n",
              "    <tr>\n",
              "      <th>0</th>\n",
              "      <td>Alaska</td>\n",
              "      <td>AdultWeekday</td>\n",
              "      <td>65.0</td>\n",
              "    </tr>\n",
              "    <tr>\n",
              "      <th>1</th>\n",
              "      <td>Alaska</td>\n",
              "      <td>AdultWeekday</td>\n",
              "      <td>47.0</td>\n",
              "    </tr>\n",
              "    <tr>\n",
              "      <th>2</th>\n",
              "      <td>Alaska</td>\n",
              "      <td>AdultWeekday</td>\n",
              "      <td>30.0</td>\n",
              "    </tr>\n",
              "    <tr>\n",
              "      <th>3</th>\n",
              "      <td>Arizona</td>\n",
              "      <td>AdultWeekday</td>\n",
              "      <td>89.0</td>\n",
              "    </tr>\n",
              "    <tr>\n",
              "      <th>4</th>\n",
              "      <td>Arizona</td>\n",
              "      <td>AdultWeekday</td>\n",
              "      <td>74.0</td>\n",
              "    </tr>\n",
              "  </tbody>\n",
              "</table>\n",
              "</div>"
            ],
            "text/plain": [
              "     state        Ticket  Price\n",
              "0   Alaska  AdultWeekday   65.0\n",
              "1   Alaska  AdultWeekday   47.0\n",
              "2   Alaska  AdultWeekday   30.0\n",
              "3  Arizona  AdultWeekday   89.0\n",
              "4  Arizona  AdultWeekday   74.0"
            ]
          },
          "execution_count": 20,
          "metadata": {},
          "output_type": "execute_result"
        }
      ],
      "source": [
        "ticket_prices.head()"
      ]
    },
    {
      "cell_type": "markdown",
      "metadata": {
        "id": "kxUbtKh194Px"
      },
      "source": [
        "This is now in a format we can pass to [seaborn](https://seaborn.pydata.org/)'s [boxplot](https://seaborn.pydata.org/generated/seaborn.boxplot.html) function to create boxplots of the ticket price distributions for each ticket type for each state."
      ]
    },
    {
      "cell_type": "code",
      "execution_count": null,
      "metadata": {
        "id": "kFNnpW2794Px"
      },
      "outputs": [],
      "source": [
        "#Code task 16#\n",
        "#Create a seaborn boxplot of the ticket price dataframe we created above,\n",
        "#with 'state' on the x-axis, 'Price' as the y-value, and a hue that indicates 'Ticket'\n",
        "#This will use boxplot's x, y, hue, and data arguments.\n",
        "plt.subplots(figsize=(12, 8))\n",
        "sns.boxplot(x=___, y=___, hue=___, data=ticket_prices)\n",
        "plt.xticks(rotation='vertical')\n",
        "plt.ylabel('Price ($)')\n",
        "plt.xlabel('State');"
      ]
    },
    {
      "cell_type": "markdown",
      "metadata": {
        "id": "knr4TAH194Py"
      },
      "source": [
        "Aside from some relatively expensive ticket prices in California, Colorado, and Utah, most prices appear to lie in a broad band from around 25 to over 100 dollars. Some States show more variability than others. Montana and South Dakota, for example, both show fairly small variability as well as matching weekend and weekday ticket prices. Nevada and Utah, on the other hand, show the most range in prices. Some States, notably North Carolina and Virginia, have weekend prices far higher than weekday prices. You could be inspired from this exploration to consider a few potential groupings of resorts, those with low spread, those with lower averages, and those that charge a premium for weekend tickets. However, you're told that you are taking all resorts to be part of the same market share, you  could argue against further segment the resorts. Nevertheless, ways to consider using the State information in your modelling include:\n",
        "\n",
        "* disregard State completely\n",
        "* retain all State information\n",
        "* retain State in the form of Montana vs not Montana, as our target resort is in Montana\n",
        "\n",
        "You've also noted another effect above: some States show a marked difference between weekday and weekend ticket prices. It may make sense to allow a model to take into account not just State but also weekend vs weekday."
      ]
    },
    {
      "cell_type": "markdown",
      "metadata": {
        "id": "vKiZ4zdz94Py"
      },
      "source": [
        "Thus we currently have two main questions you want to resolve:\n",
        "\n",
        "* What do you do about the two types of ticket price?\n",
        "* What do you do about the state information?"
      ]
    },
    {
      "cell_type": "markdown",
      "metadata": {
        "id": "c8O-oOSc94Py"
      },
      "source": [
        "### 2.6.4 Numeric Features<a id='2.6.4_Numeric_Features'></a>"
      ]
    },
    {
      "cell_type": "code",
      "execution_count": null,
      "metadata": {
        "id": "0Kj_RXRb94Py"
      },
      "outputs": [],
      "source": [
        "Having decided to reserve judgement on how exactly you utilize the State, turn your attention to cleaning the numeric features."
      ]
    },
    {
      "cell_type": "markdown",
      "metadata": {
        "id": "cvetPA0y94Py"
      },
      "source": [
        "#### 2.6.4.1 Numeric data summary<a id='2.6.4.1_Numeric_data_summary'></a>"
      ]
    },
    {
      "cell_type": "code",
      "execution_count": null,
      "metadata": {
        "id": "Z8F7AJRu94Py"
      },
      "outputs": [],
      "source": [
        "#Code task 17#\n",
        "#Call ski_data's `describe` method for a statistical summary of the numerical columns\n",
        "#Hint: there are fewer summary stat columns than features, so displaying the transpose\n",
        "#will be useful again\n",
        "ski_data.___.___"
      ]
    },
    {
      "cell_type": "markdown",
      "metadata": {
        "id": "gd1XsX7v94Py"
      },
      "source": [
        "Recall you're missing the ticket prices for some 16% of resorts. This is a fundamental problem that means you simply lack the required data for those resorts and will have to drop those records. But you may have a weekend price and not a weekday price, or vice versa. You want to keep any price you have."
      ]
    },
    {
      "cell_type": "code",
      "execution_count": null,
      "metadata": {
        "id": "eOOqIIBx94Pz",
        "outputId": "7c008f70-8595-4b63-86d6-f17d31bd0932"
      },
      "outputs": [
        {
          "data": {
            "text/plain": [
              "0    82.424242\n",
              "2    14.242424\n",
              "1     3.333333\n",
              "dtype: float64"
            ]
          },
          "execution_count": 23,
          "metadata": {},
          "output_type": "execute_result"
        }
      ],
      "source": [
        "missing_price = ski_data[['AdultWeekend', 'AdultWeekday']].isnull().sum(axis=1)\n",
        "missing_price.value_counts()/len(missing_price) * 100"
      ]
    },
    {
      "cell_type": "markdown",
      "metadata": {
        "id": "zWHCpYFK94Pz"
      },
      "source": [
        "Just over 82% of resorts have no missing ticket price, 3% are missing one value, and 14% are missing both. You will definitely want to drop the records for which you have no price information, however you will not do so just yet. There may still be useful information about the distributions of other features in that 14% of the data."
      ]
    },
    {
      "cell_type": "markdown",
      "metadata": {
        "id": "0frvowTU94Pz"
      },
      "source": [
        "#### 2.6.4.2 Distributions Of Feature Values<a id='2.6.4.2_Distributions_Of_Feature_Values'></a>"
      ]
    },
    {
      "cell_type": "markdown",
      "metadata": {
        "id": "sizBcTKQ94Pz"
      },
      "source": [
        "Note that, although we are still in the 'data wrangling and cleaning' phase rather than exploratory data analysis, looking at distributions of features is immensely useful in getting a feel for whether the values look sensible and whether there are any obvious outliers to investigate. Some exploratory data analysis belongs here, and data wrangling will inevitably occur later on. It's more a matter of emphasis. Here, we're interesting in focusing on whether distributions look plausible or wrong. Later on, we're more interested in relationships and patterns."
      ]
    },
    {
      "cell_type": "code",
      "execution_count": null,
      "metadata": {
        "id": "dbHO6kv494Pz"
      },
      "outputs": [],
      "source": [
        "#Code task 18#\n",
        "#Call ski_data's `hist` method to plot histograms of each of the numeric features\n",
        "#Try passing it an argument figsize=(15,10)\n",
        "#Try calling plt.subplots_adjust() with an argument hspace=0.5 to adjust the spacing\n",
        "#It's important you create legible and easy-to-read plots\n",
        "ski_data.___(___)\n",
        "#plt.subplots_adjust(hspace=___);\n",
        "#Hint: notice how the terminating ';' \"swallows\" some messy output and leads to a tidier notebook"
      ]
    },
    {
      "cell_type": "markdown",
      "metadata": {
        "id": "W58osdmY94P0"
      },
      "source": [
        "What features do we have possible cause for concern about and why?\n",
        "\n",
        "* SkiableTerrain_ac because values are clustered down the low end,\n",
        "* Snow Making_ac for the same reason,\n",
        "* fastEight because all but one value is 0 so it has very little variance, and half the values are missing,\n",
        "* fastSixes raises an amber flag; it has more variability, but still mostly 0,\n",
        "* trams also may get an amber flag for the same reason,\n",
        "* yearsOpen because most values are low but it has a maximum of 2019, which strongly suggests someone recorded calendar year rather than number of years."
      ]
    },
    {
      "cell_type": "markdown",
      "metadata": {
        "id": "6RvsUu7_94P0"
      },
      "source": [
        "##### 2.6.4.2.1 SkiableTerrain_ac<a id='2.6.4.2.1_SkiableTerrain_ac'></a>"
      ]
    },
    {
      "cell_type": "code",
      "execution_count": null,
      "metadata": {
        "id": "PGRKpr2C94P0"
      },
      "outputs": [],
      "source": [
        "#Code task 19#\n",
        "#Filter the 'SkiableTerrain_ac' column to print the values greater than 10000\n",
        "ski_data.___[ski_data.___ > ___]"
      ]
    },
    {
      "cell_type": "markdown",
      "metadata": {
        "id": "rHg0hgEy94P0"
      },
      "source": [
        "**Q: 2** One resort has an incredibly large skiable terrain area! Which is it?"
      ]
    },
    {
      "cell_type": "code",
      "execution_count": null,
      "metadata": {
        "id": "irRSW0jl94P0"
      },
      "outputs": [],
      "source": [
        "#Code task 20#\n",
        "#Now you know there's only one, print the whole row to investigate all values, including seeing the resort name\n",
        "#Hint: don't forget the transpose will be helpful here\n",
        "ski_data[ski_data.___ > ___].___"
      ]
    },
    {
      "cell_type": "markdown",
      "metadata": {
        "id": "DcY2Pu2R94P0"
      },
      "source": [
        "**A: 2** Your answer here"
      ]
    },
    {
      "cell_type": "markdown",
      "metadata": {
        "id": "rxSR7PEu94P0"
      },
      "source": [
        "But what can you do when you have one record that seems highly suspicious?"
      ]
    },
    {
      "cell_type": "markdown",
      "metadata": {
        "id": "8R9yulMZ94P0"
      },
      "source": [
        "You can see if your data are correct. Search for \"silverton mountain skiable area\". If you do this, you get some [useful information](https://www.google.com/search?q=silverton+mountain+skiable+area)."
      ]
    },
    {
      "cell_type": "markdown",
      "metadata": {
        "id": "XrHlu3r494P1"
      },
      "source": [
        "![Silverton Mountain information](images/silverton_mountain_info.png)"
      ]
    },
    {
      "cell_type": "markdown",
      "metadata": {
        "id": "oKwByYbJ94P1"
      },
      "source": [
        "You can spot check data. You see your top and base elevation values agree, but the skiable area is very different. Your suspect value is 26819, but the value you've just looked up is 1819. The last three digits agree. This sort of error could have occured in transmission or some editing or transcription stage. You could plausibly replace the suspect value with the one you've just obtained. Another cautionary note to make here is that although you're doing this in order to progress with your analysis, this is most definitely an issue that should have been raised and fed back to the client or data originator as a query. You should view this \"data correction\" step as a means to continue (documenting it carefully as you do in this notebook) rather than an ultimate decision as to what is correct."
      ]
    },
    {
      "cell_type": "code",
      "execution_count": null,
      "metadata": {
        "id": "nBQcQs6Y94P1"
      },
      "outputs": [],
      "source": [
        "#Code task 21#\n",
        "#Use the .loc accessor to print the 'SkiableTerrain_ac' value only for this resort\n",
        "ski_data.___[39, 'SkiableTerrain_ac']"
      ]
    },
    {
      "cell_type": "code",
      "execution_count": null,
      "metadata": {
        "id": "eqQFN0SN94P1"
      },
      "outputs": [],
      "source": [
        "#Code task 22#\n",
        "#Use the .loc accessor again to modify this value with the correct value of 1819\n",
        "ski_data.___[39, 'SkiableTerrain_ac'] = ___"
      ]
    },
    {
      "cell_type": "code",
      "execution_count": null,
      "metadata": {
        "id": "bFfsW2PE94P1"
      },
      "outputs": [],
      "source": [
        "#Code task 23#\n",
        "#Use the .loc accessor a final time to verify that the value has been modified\n",
        "ski_data.___[39, 'SkiableTerrain_ac']"
      ]
    },
    {
      "cell_type": "markdown",
      "metadata": {
        "id": "FC-BAY-L94P1"
      },
      "source": [
        "**NB whilst you may become suspicious about your data quality, and you know you have missing values, you will not here dive down the rabbit hole of checking all values or web scraping to replace missing values.**"
      ]
    },
    {
      "cell_type": "markdown",
      "metadata": {
        "id": "vBrzc4dt94P1"
      },
      "source": [
        "What does the distribution of skiable area look like now?"
      ]
    },
    {
      "cell_type": "code",
      "execution_count": null,
      "metadata": {
        "id": "oRBr1yJS94P1",
        "outputId": "d0919aca-b57e-4762-ce70-491a6231b885"
      },
      "outputs": [
        {
          "data": {
            "image/png": "[encoded data removed]",
            "text/plain": [
              "<Figure size 432x288 with 1 Axes>"
            ]
          },
          "metadata": {
            "needs_background": "light"
          },
          "output_type": "display_data"
        }
      ],
      "source": [
        "ski_data.SkiableTerrain_ac.hist(bins=30)\n",
        "plt.xlabel('SkiableTerrain_ac')\n",
        "plt.ylabel('Count')\n",
        "plt.title('Distribution of skiable area (acres) after replacing erroneous value');"
      ]
    },
    {
      "cell_type": "markdown",
      "metadata": {
        "id": "F8DEsQIt94P2"
      },
      "source": [
        "You now see a rather long tailed distribution. You may wonder about the now most extreme value that is above 8000, but similarly you may also wonder about the value around 7000. If you wanted to spend more time manually checking values you could, but leave this for now. The above distribution is plausible."
      ]
    },
    {
      "cell_type": "markdown",
      "metadata": {
        "id": "P8NcCf9E94P2"
      },
      "source": [
        "##### 2.6.4.2.2 Snow Making_ac<a id='2.6.4.2.2_Snow_Making_ac'></a>"
      ]
    },
    {
      "cell_type": "code",
      "execution_count": null,
      "metadata": {
        "id": "aR9wbmp994P2",
        "outputId": "376fdb9b-70dc-4ddc-ef8f-b487d960e8fe"
      },
      "outputs": [
        {
          "data": {
            "text/plain": [
              "11    3379.0\n",
              "18    1500.0\n",
              "Name: Snow Making_ac, dtype: float64"
            ]
          },
          "execution_count": 31,
          "metadata": {},
          "output_type": "execute_result"
        }
      ],
      "source": [
        "ski_data['Snow Making_ac'][ski_data['Snow Making_ac'] > 1000]"
      ]
    },
    {
      "cell_type": "code",
      "execution_count": null,
      "metadata": {
        "id": "lDkJ0AdA94P2",
        "outputId": "955deff9-2d0c-46ec-e843-fca34a9c99a9"
      },
      "outputs": [
        {
          "data": {
            "text/html": [
              "<div>\n",
              "<style scoped>\n",
              "    .dataframe tbody tr th:only-of-type {\n",
              "        vertical-align: middle;\n",
              "    }\n",
              "\n",
              "    .dataframe tbody tr th {\n",
              "        vertical-align: top;\n",
              "    }\n",
              "\n",
              "    .dataframe thead th {\n",
              "        text-align: right;\n",
              "    }\n",
              "</style>\n",
              "<table border=\"1\" class=\"dataframe\">\n",
              "  <thead>\n",
              "    <tr style=\"text-align: right;\">\n",
              "      <th></th>\n",
              "      <th>11</th>\n",
              "    </tr>\n",
              "  </thead>\n",
              "  <tbody>\n",
              "    <tr>\n",
              "      <th>Name</th>\n",
              "      <td>Heavenly Mountain Resort</td>\n",
              "    </tr>\n",
              "    <tr>\n",
              "      <th>Region</th>\n",
              "      <td>Sierra Nevada</td>\n",
              "    </tr>\n",
              "    <tr>\n",
              "      <th>state</th>\n",
              "      <td>California</td>\n",
              "    </tr>\n",
              "    <tr>\n",
              "      <th>summit_elev</th>\n",
              "      <td>10067</td>\n",
              "    </tr>\n",
              "    <tr>\n",
              "      <th>vertical_drop</th>\n",
              "      <td>3500</td>\n",
              "    </tr>\n",
              "    <tr>\n",
              "      <th>base_elev</th>\n",
              "      <td>7170</td>\n",
              "    </tr>\n",
              "    <tr>\n",
              "      <th>trams</th>\n",
              "      <td>2</td>\n",
              "    </tr>\n",
              "    <tr>\n",
              "      <th>fastEight</th>\n",
              "      <td>0</td>\n",
              "    </tr>\n",
              "    <tr>\n",
              "      <th>fastSixes</th>\n",
              "      <td>2</td>\n",
              "    </tr>\n",
              "    <tr>\n",
              "      <th>fastQuads</th>\n",
              "      <td>7</td>\n",
              "    </tr>\n",
              "    <tr>\n",
              "      <th>quad</th>\n",
              "      <td>1</td>\n",
              "    </tr>\n",
              "    <tr>\n",
              "      <th>triple</th>\n",
              "      <td>5</td>\n",
              "    </tr>\n",
              "    <tr>\n",
              "      <th>double</th>\n",
              "      <td>3</td>\n",
              "    </tr>\n",
              "    <tr>\n",
              "      <th>surface</th>\n",
              "      <td>8</td>\n",
              "    </tr>\n",
              "    <tr>\n",
              "      <th>total_chairs</th>\n",
              "      <td>28</td>\n",
              "    </tr>\n",
              "    <tr>\n",
              "      <th>Runs</th>\n",
              "      <td>97</td>\n",
              "    </tr>\n",
              "    <tr>\n",
              "      <th>TerrainParks</th>\n",
              "      <td>3</td>\n",
              "    </tr>\n",
              "    <tr>\n",
              "      <th>LongestRun_mi</th>\n",
              "      <td>5.5</td>\n",
              "    </tr>\n",
              "    <tr>\n",
              "      <th>SkiableTerrain_ac</th>\n",
              "      <td>4800</td>\n",
              "    </tr>\n",
              "    <tr>\n",
              "      <th>Snow Making_ac</th>\n",
              "      <td>3379</td>\n",
              "    </tr>\n",
              "    <tr>\n",
              "      <th>daysOpenLastYear</th>\n",
              "      <td>155</td>\n",
              "    </tr>\n",
              "    <tr>\n",
              "      <th>yearsOpen</th>\n",
              "      <td>64</td>\n",
              "    </tr>\n",
              "    <tr>\n",
              "      <th>averageSnowfall</th>\n",
              "      <td>360</td>\n",
              "    </tr>\n",
              "    <tr>\n",
              "      <th>AdultWeekday</th>\n",
              "      <td>NaN</td>\n",
              "    </tr>\n",
              "    <tr>\n",
              "      <th>AdultWeekend</th>\n",
              "      <td>NaN</td>\n",
              "    </tr>\n",
              "    <tr>\n",
              "      <th>projectedDaysOpen</th>\n",
              "      <td>157</td>\n",
              "    </tr>\n",
              "    <tr>\n",
              "      <th>NightSkiing_ac</th>\n",
              "      <td>NaN</td>\n",
              "    </tr>\n",
              "  </tbody>\n",
              "</table>\n",
              "</div>"
            ],
            "text/plain": [
              "                                         11\n",
              "Name               Heavenly Mountain Resort\n",
              "Region                        Sierra Nevada\n",
              "state                            California\n",
              "summit_elev                           10067\n",
              "vertical_drop                          3500\n",
              "base_elev                              7170\n",
              "trams                                     2\n",
              "fastEight                                 0\n",
              "fastSixes                                 2\n",
              "fastQuads                                 7\n",
              "quad                                      1\n",
              "triple                                    5\n",
              "double                                    3\n",
              "surface                                   8\n",
              "total_chairs                             28\n",
              "Runs                                     97\n",
              "TerrainParks                              3\n",
              "LongestRun_mi                           5.5\n",
              "SkiableTerrain_ac                      4800\n",
              "Snow Making_ac                         3379\n",
              "daysOpenLastYear                        155\n",
              "yearsOpen                                64\n",
              "averageSnowfall                         360\n",
              "AdultWeekday                            NaN\n",
              "AdultWeekend                            NaN\n",
              "projectedDaysOpen                       157\n",
              "NightSkiing_ac                          NaN"
            ]
          },
          "execution_count": 32,
          "metadata": {},
          "output_type": "execute_result"
        }
      ],
      "source": [
        "ski_data[ski_data['Snow Making_ac'] > 3000].T"
      ]
    },
    {
      "cell_type": "markdown",
      "metadata": {
        "id": "i9tERDTs94P2"
      },
      "source": [
        "You can adopt a similar approach as for the suspect skiable area value and do some spot checking. To save time, here is a link to the website for [Heavenly Mountain Resort](https://www.skiheavenly.com/the-mountain/about-the-mountain/mountain-info.aspx). From this you can glean that you have values for skiable terrain that agree. Furthermore, you can read that snowmaking covers 60% of the trails."
      ]
    },
    {
      "cell_type": "markdown",
      "metadata": {
        "id": "11dUIt3A94P2"
      },
      "source": [
        "What, then, is your rough guess for the area covered by snowmaking?"
      ]
    },
    {
      "cell_type": "code",
      "execution_count": null,
      "metadata": {
        "id": "7BRSaPO294P2",
        "outputId": "b4571085-bc54-4b19-8e77-d2f3f6d648c4"
      },
      "outputs": [
        {
          "data": {
            "text/plain": [
              "2880.0"
            ]
          },
          "execution_count": 33,
          "metadata": {},
          "output_type": "execute_result"
        }
      ],
      "source": [
        ".6 * 4800"
      ]
    },
    {
      "cell_type": "markdown",
      "metadata": {
        "id": "pfGx9bdB94P3"
      },
      "source": [
        "This is less than the value of 3379 in your data so you may have a judgement call to make. However, notice something else. You have no ticket pricing information at all for this resort. Any further effort spent worrying about values for this resort will be wasted. You'll simply be dropping the entire row!"
      ]
    },
    {
      "cell_type": "markdown",
      "metadata": {
        "id": "bQiBNO9E94P3"
      },
      "source": [
        "##### 2.6.4.2.3 fastEight<a id='2.6.4.2.3_fastEight'></a>"
      ]
    },
    {
      "cell_type": "markdown",
      "metadata": {
        "id": "YKoOfq8g94P3"
      },
      "source": [
        "Look at the different fastEight values more closely:"
      ]
    },
    {
      "cell_type": "code",
      "execution_count": null,
      "metadata": {
        "id": "Sz84UbZ694P3",
        "outputId": "f32c7193-7e21-465d-89a7-41929a9a8d23"
      },
      "outputs": [
        {
          "data": {
            "text/plain": [
              "0.0    163\n",
              "1.0      1\n",
              "Name: fastEight, dtype: int64"
            ]
          },
          "execution_count": 34,
          "metadata": {},
          "output_type": "execute_result"
        }
      ],
      "source": [
        "ski_data.fastEight.value_counts()"
      ]
    },
    {
      "cell_type": "markdown",
      "metadata": {
        "id": "eNMOUxZO94P3"
      },
      "source": [
        "Drop the fastEight column in its entirety; half the values are missing and all but the others are the value zero. There is essentially no information in this column."
      ]
    },
    {
      "cell_type": "code",
      "execution_count": null,
      "metadata": {
        "id": "AvAcErBT94P4"
      },
      "outputs": [],
      "source": [
        "#Code task 24#\n",
        "#Drop the 'fastEight' column from ski_data. Use inplace=True\n",
        "ski_data.drop(columns=___, inplace=___)"
      ]
    },
    {
      "cell_type": "markdown",
      "metadata": {
        "id": "3h0ebxbV94P4"
      },
      "source": [
        "What about yearsOpen? How many resorts have purportedly been open for more than 100 years?"
      ]
    },
    {
      "cell_type": "code",
      "execution_count": null,
      "metadata": {
        "id": "n5xU0lpt94P4"
      },
      "outputs": [],
      "source": [
        "#Code task 25#\n",
        "#Filter the 'yearsOpen' column for values greater than 100\n",
        "ski_data.___[ski_data.___ > ___]"
      ]
    },
    {
      "cell_type": "markdown",
      "metadata": {
        "id": "J4DdDBIh94P4"
      },
      "source": [
        "Okay, one seems to have been open for 104 years. But beyond that, one is down as having been open for 2019 years. This is wrong! What shall you do about this?"
      ]
    },
    {
      "cell_type": "markdown",
      "metadata": {
        "id": "xjej9hIa94P4"
      },
      "source": [
        "What does the distribution of yearsOpen look like if you exclude just the obviously wrong one?"
      ]
    },
    {
      "cell_type": "code",
      "execution_count": null,
      "metadata": {
        "id": "Y26C-ED594P4"
      },
      "outputs": [],
      "source": [
        "#Code task 26#\n",
        "#Call the hist method on 'yearsOpen' after filtering for values under 1000\n",
        "#Pass the argument bins=30 to hist(), but feel free to explore other values\n",
        "ski_data.___[ski_data.___ < ___].hist(___)\n",
        "plt.xlabel('Years open')\n",
        "plt.ylabel('Count')\n",
        "plt.title('Distribution of years open excluding 2019');"
      ]
    },
    {
      "cell_type": "markdown",
      "metadata": {
        "id": "TtFnAv6l94P4"
      },
      "source": [
        "The above distribution of years seems entirely plausible, including the 104 year value. You can certainly state that no resort will have been open for 2019 years! It likely means the resort opened in 2019. It could also mean the resort is due to open in 2019. You don't know when these data were gathered!"
      ]
    },
    {
      "cell_type": "markdown",
      "metadata": {
        "id": "zZNYwo0094P4"
      },
      "source": [
        "Let's review the summary statistics for the years under 1000."
      ]
    },
    {
      "cell_type": "code",
      "execution_count": null,
      "metadata": {
        "id": "V-IIXsBc94P5",
        "outputId": "434829c5-36df-4d5b-c637-515140b638ac"
      },
      "outputs": [
        {
          "data": {
            "text/plain": [
              "count    328.000000\n",
              "mean      57.695122\n",
              "std       16.841182\n",
              "min        6.000000\n",
              "25%       50.000000\n",
              "50%       58.000000\n",
              "75%       68.250000\n",
              "max      104.000000\n",
              "Name: yearsOpen, dtype: float64"
            ]
          },
          "execution_count": 38,
          "metadata": {},
          "output_type": "execute_result"
        }
      ],
      "source": [
        "ski_data.yearsOpen[ski_data.yearsOpen < 1000].describe()"
      ]
    },
    {
      "cell_type": "markdown",
      "metadata": {
        "id": "d2TbS0rm94P5"
      },
      "source": [
        "The smallest number of years open otherwise is 6. You can't be sure whether this resort in question has been open zero years or one year and even whether the numbers are projections or actual. In any case, you would be adding a new youngest resort so it feels best to simply drop this row."
      ]
    },
    {
      "cell_type": "code",
      "execution_count": null,
      "metadata": {
        "id": "sFWMQOd594P9"
      },
      "outputs": [],
      "source": [
        "ski_data = ski_data[ski_data.yearsOpen < 1000]"
      ]
    },
    {
      "cell_type": "markdown",
      "metadata": {
        "id": "buirTqTb94P9"
      },
      "source": [
        "##### 2.6.4.2.4 fastSixes and Trams<a id='2.6.4.2.4_fastSixes_and_Trams'></a>"
      ]
    },
    {
      "cell_type": "markdown",
      "metadata": {
        "id": "ATm11LjU94P9"
      },
      "source": [
        "The other features you had mild concern over, you will not investigate further. Perhaps take some care when using these features."
      ]
    },
    {
      "cell_type": "markdown",
      "metadata": {
        "id": "i5975_ZC94P9"
      },
      "source": [
        "## 2.7 Derive State-wide Summary Statistics For Our Market Segment<a id='2.7_Derive_State-wide_Summary_Statistics_For_Our_Market_Segment'></a>"
      ]
    },
    {
      "cell_type": "markdown",
      "metadata": {
        "id": "abYdXk3c94P9"
      },
      "source": [
        "You have, by this point removed one row, but it was for a resort that may not have opened yet, or perhaps in its first season. Using your business knowledge, you know that state-wide supply and demand of certain skiing resources may well factor into pricing strategies. Does a resort dominate the available night skiing in a state? Or does it account for a large proportion of the total skiable terrain or days open?\n",
        "\n",
        "If you want to add any features to your data that captures the state-wide market size, you should do this now, before dropping any more rows. In the next section, you'll drop rows with missing price information. Although you don't know what those resorts charge for their tickets, you do know the resorts exists and have been open for at least six years. Thus, you'll now calculate some state-wide summary statistics for later use."
      ]
    },
    {
      "cell_type": "markdown",
      "metadata": {
        "id": "_s4qu1Ym94P9"
      },
      "source": [
        "Many features in your data pertain to chairlifts, that is for getting people around each resort. These aren't relevant, nor are the features relating to altitudes. Features that you may be interested in are:\n",
        "\n",
        "* TerrainParks\n",
        "* SkiableTerrain_ac\n",
        "* daysOpenLastYear\n",
        "* NightSkiing_ac\n",
        "\n",
        "When you think about it, these are features it makes sense to sum: the total number of terrain parks, the total skiable area, the total number of days open, and the total area available for night skiing. You might consider the total number of ski runs, but understand that the skiable area is more informative than just a number of runs."
      ]
    },
    {
      "cell_type": "markdown",
      "metadata": {
        "id": "vrmtj0bn94P9"
      },
      "source": [
        "A fairly new groupby behaviour is [named aggregation](https://pandas-docs.github.io/pandas-docs-travis/whatsnew/v0.25.0.html). This allows us to clearly perform the aggregations you want whilst also creating informative output column names."
      ]
    },
    {
      "cell_type": "code",
      "execution_count": null,
      "metadata": {
        "id": "t1aMI9XH94P9"
      },
      "outputs": [],
      "source": [
        "#Code task 27#\n",
        "#Add named aggregations for the sum of 'daysOpenLastYear', 'TerrainParks', and 'NightSkiing_ac'\n",
        "#call them 'state_total_days_open', 'state_total_terrain_parks', and 'state_total_nightskiing_ac',\n",
        "#respectively\n",
        "#Finally, add a call to the reset_index() method (we recommend you experiment with and without this to see\n",
        "#what it does)\n",
        "state_summary = ski_data.groupby('state').agg(\n",
        "    resorts_per_state=pd.NamedAgg(column='Name', aggfunc='size'), #could pick any column here\n",
        "    state_total_skiable_area_ac=pd.NamedAgg(column='SkiableTerrain_ac', aggfunc='sum'),\n",
        "    state_total_days_open=pd.NamedAgg(column=__, aggfunc='sum'),\n",
        "    ___=pd.NamedAgg(column=___, aggfunc=___),\n",
        "    ___=pd.NamedAgg(column=___, aggfunc=___)\n",
        ").___\n",
        "state_summary.head()"
      ]
    },
    {
      "cell_type": "markdown",
      "metadata": {
        "id": "Tr7xH9Sm94P-"
      },
      "source": [
        "## 2.8 Drop Rows With No Price Data<a id='2.8_Drop_Rows_With_No_Price_Data'></a>"
      ]
    },
    {
      "cell_type": "markdown",
      "metadata": {
        "id": "TsK3HWro94P-"
      },
      "source": [
        "You know there are two columns that refer to price: 'AdultWeekend' and 'AdultWeekday'. You can calculate the number of price values missing per row. This will obviously have to be either 0, 1, or 2, where 0 denotes no price values are missing and 2 denotes that both are missing."
      ]
    },
    {
      "cell_type": "code",
      "execution_count": null,
      "metadata": {
        "id": "MDJDYjyz94P-",
        "outputId": "6d9f0792-fb43-41f5-ce28-cdd6b13f2626"
      },
      "outputs": [
        {
          "data": {
            "text/plain": [
              "0    82.317073\n",
              "2    14.329268\n",
              "1     3.353659\n",
              "dtype: float64"
            ]
          },
          "execution_count": 41,
          "metadata": {},
          "output_type": "execute_result"
        }
      ],
      "source": [
        "missing_price = ski_data[['AdultWeekend', 'AdultWeekday']].isnull().sum(axis=1)\n",
        "missing_price.value_counts()/len(missing_price) * 100"
      ]
    },
    {
      "cell_type": "markdown",
      "metadata": {
        "id": "7BAWwml794P-"
      },
      "source": [
        "About 14% of the rows have no price data. As the price is your target, these rows are of no use. Time to lose them."
      ]
    },
    {
      "cell_type": "code",
      "execution_count": null,
      "metadata": {
        "id": "7TSq-QYl94P-"
      },
      "outputs": [],
      "source": [
        "#Code task 28#\n",
        "#Use `missing_price` to remove rows from ski_data where both price values are missing\n",
        "ski_data = ski_data[___ != 2]"
      ]
    },
    {
      "cell_type": "markdown",
      "metadata": {
        "id": "w4-HQzfq94P-"
      },
      "source": [
        "## 2.9 Review distributions<a id='2.9_Review_distributions'></a>"
      ]
    },
    {
      "cell_type": "code",
      "execution_count": null,
      "metadata": {
        "id": "iqqWjGLf94P_",
        "outputId": "b671d4fb-dd8d-41e7-b448-7544a9d250ea"
      },
      "outputs": [
        {
          "data": {
            "image/png": "[encoded data removed]",
            "text/plain": [
              "<Figure size 1080x720 with 25 Axes>"
            ]
          },
          "metadata": {
            "needs_background": "light"
          },
          "output_type": "display_data"
        }
      ],
      "source": [
        "ski_data.hist(figsize=(15, 10))\n",
        "plt.subplots_adjust(hspace=0.5);"
      ]
    },
    {
      "cell_type": "markdown",
      "metadata": {
        "id": "DT3O-eId94P_"
      },
      "source": [
        "These distributions are much better. There are clearly some skewed distributions, so keep an eye on `fastQuads`, `fastSixes`, and perhaps `trams`. These lack much variance away from 0 and may have a small number of relatively extreme values.  Models failing to rate a feature as important when domain knowledge tells you it should be is an issue to look out for, as is a model being overly influenced by some extreme values. If you build a good machine learning pipeline, hopefully it will be robust to such issues, but you may also wish to consider nonlinear transformations of features."
      ]
    },
    {
      "cell_type": "markdown",
      "metadata": {
        "id": "BtQRGDjh94P_"
      },
      "source": [
        "## 2.10 Population data<a id='2.10_Population_data'></a>"
      ]
    },
    {
      "cell_type": "markdown",
      "metadata": {
        "id": "jchYEUT_94QA"
      },
      "source": [
        "Population and area data for the US states can be obtained from [wikipedia](https://simple.wikipedia.org/wiki/List_of_U.S._states). Listen, you should have a healthy concern about using data you \"found on the Internet\". Make sure it comes from a reputable source. This table of data is useful because it allows you to easily pull and incorporate an external data set. It also allows you to proceed with an analysis that includes state sizes and populations for your 'first cut' model. Be explicit about your source (we documented it here in this workflow) and ensure it is open to inspection. All steps are subject to review, and it may be that a client has a specific source of data they trust that you should use to rerun the analysis."
      ]
    },
    {
      "cell_type": "code",
      "execution_count": null,
      "metadata": {
        "id": "T1MbkRKW94QA"
      },
      "outputs": [],
      "source": [
        "#Code task 29#\n",
        "#Use pandas' `read_html` method to read the table from the URL below\n",
        "states_url = 'https://simple.wikipedia.org/w/index.php?title=List_of_U.S._states&oldid=7168473'\n",
        "usa_states = pd.___(___)"
      ]
    },
    {
      "cell_type": "code",
      "execution_count": null,
      "metadata": {
        "id": "uCSpUM0594QA",
        "outputId": "0e92c2e4-89cd-446c-f84a-e1a91da8bc91"
      },
      "outputs": [
        {
          "data": {
            "text/plain": [
              "list"
            ]
          },
          "execution_count": 45,
          "metadata": {},
          "output_type": "execute_result"
        }
      ],
      "source": [
        "type(usa_states)"
      ]
    },
    {
      "cell_type": "code",
      "execution_count": null,
      "metadata": {
        "id": "QOdVnZ5A94QA",
        "outputId": "bcbffe10-5cc8-4092-9979-20c89a2fc1e7"
      },
      "outputs": [
        {
          "data": {
            "text/plain": [
              "1"
            ]
          },
          "execution_count": 46,
          "metadata": {},
          "output_type": "execute_result"
        }
      ],
      "source": [
        "len(usa_states)"
      ]
    },
    {
      "cell_type": "code",
      "execution_count": null,
      "metadata": {
        "id": "JA_X9gwl94QB",
        "outputId": "96c4e0ed-6a57-4e39-c33d-c67d460f82f9"
      },
      "outputs": [
        {
          "data": {
            "text/html": [
              "<div>\n",
              "<style scoped>\n",
              "    .dataframe tbody tr th:only-of-type {\n",
              "        vertical-align: middle;\n",
              "    }\n",
              "\n",
              "    .dataframe tbody tr th {\n",
              "        vertical-align: top;\n",
              "    }\n",
              "\n",
              "    .dataframe thead tr th {\n",
              "        text-align: left;\n",
              "    }\n",
              "</style>\n",
              "<table border=\"1\" class=\"dataframe\">\n",
              "  <thead>\n",
              "    <tr>\n",
              "      <th></th>\n",
              "      <th colspan=\"2\" halign=\"left\">Name &amp;postal abbs. [1]</th>\n",
              "      <th colspan=\"2\" halign=\"left\">Cities</th>\n",
              "      <th>Established[upper-alpha 1]</th>\n",
              "      <th>Population[upper-alpha 2][3]</th>\n",
              "      <th colspan=\"2\" halign=\"left\">Total area[4]</th>\n",
              "      <th colspan=\"2\" halign=\"left\">Land area[4]</th>\n",
              "      <th colspan=\"2\" halign=\"left\">Water area[4]</th>\n",
              "      <th>Numberof Reps.</th>\n",
              "    </tr>\n",
              "    <tr>\n",
              "      <th></th>\n",
              "      <th>Name &amp;postal abbs. [1]</th>\n",
              "      <th>Name &amp;postal abbs. [1].1</th>\n",
              "      <th>Capital</th>\n",
              "      <th>Largest[5]</th>\n",
              "      <th>Established[upper-alpha 1]</th>\n",
              "      <th>Population[upper-alpha 2][3]</th>\n",
              "      <th>mi2</th>\n",
              "      <th>km2</th>\n",
              "      <th>mi2</th>\n",
              "      <th>km2</th>\n",
              "      <th>mi2</th>\n",
              "      <th>km2</th>\n",
              "      <th>Numberof Reps.</th>\n",
              "    </tr>\n",
              "  </thead>\n",
              "  <tbody>\n",
              "    <tr>\n",
              "      <th>0</th>\n",
              "      <td>Alabama</td>\n",
              "      <td>AL</td>\n",
              "      <td>Montgomery</td>\n",
              "      <td>Birmingham</td>\n",
              "      <td>Dec 14, 1819</td>\n",
              "      <td>4903185</td>\n",
              "      <td>52420</td>\n",
              "      <td>135767</td>\n",
              "      <td>50645</td>\n",
              "      <td>131171</td>\n",
              "      <td>1775</td>\n",
              "      <td>4597</td>\n",
              "      <td>7</td>\n",
              "    </tr>\n",
              "    <tr>\n",
              "      <th>1</th>\n",
              "      <td>Alaska</td>\n",
              "      <td>AK</td>\n",
              "      <td>Juneau</td>\n",
              "      <td>Anchorage</td>\n",
              "      <td>Jan 3, 1959</td>\n",
              "      <td>731545</td>\n",
              "      <td>665384</td>\n",
              "      <td>1723337</td>\n",
              "      <td>570641</td>\n",
              "      <td>1477953</td>\n",
              "      <td>94743</td>\n",
              "      <td>245384</td>\n",
              "      <td>1</td>\n",
              "    </tr>\n",
              "    <tr>\n",
              "      <th>2</th>\n",
              "      <td>Arizona</td>\n",
              "      <td>AZ</td>\n",
              "      <td>Phoenix</td>\n",
              "      <td>Phoenix</td>\n",
              "      <td>Feb 14, 1912</td>\n",
              "      <td>7278717</td>\n",
              "      <td>113990</td>\n",
              "      <td>295234</td>\n",
              "      <td>113594</td>\n",
              "      <td>294207</td>\n",
              "      <td>396</td>\n",
              "      <td>1026</td>\n",
              "      <td>9</td>\n",
              "    </tr>\n",
              "    <tr>\n",
              "      <th>3</th>\n",
              "      <td>Arkansas</td>\n",
              "      <td>AR</td>\n",
              "      <td>Little Rock</td>\n",
              "      <td>Little Rock</td>\n",
              "      <td>Jun 15, 1836</td>\n",
              "      <td>3017804</td>\n",
              "      <td>53179</td>\n",
              "      <td>137732</td>\n",
              "      <td>52035</td>\n",
              "      <td>134771</td>\n",
              "      <td>1143</td>\n",
              "      <td>2961</td>\n",
              "      <td>4</td>\n",
              "    </tr>\n",
              "    <tr>\n",
              "      <th>4</th>\n",
              "      <td>California</td>\n",
              "      <td>CA</td>\n",
              "      <td>Sacramento</td>\n",
              "      <td>Los Angeles</td>\n",
              "      <td>Sep 9, 1850</td>\n",
              "      <td>39512223</td>\n",
              "      <td>163695</td>\n",
              "      <td>423967</td>\n",
              "      <td>155779</td>\n",
              "      <td>403466</td>\n",
              "      <td>7916</td>\n",
              "      <td>20501</td>\n",
              "      <td>53</td>\n",
              "    </tr>\n",
              "  </tbody>\n",
              "</table>\n",
              "</div>"
            ],
            "text/plain": [
              "  Name &postal abbs. [1]                                Cities               \\\n",
              "  Name &postal abbs. [1] Name &postal abbs. [1].1      Capital   Largest[5]   \n",
              "0                Alabama                       AL   Montgomery   Birmingham   \n",
              "1                 Alaska                       AK       Juneau    Anchorage   \n",
              "2                Arizona                       AZ      Phoenix      Phoenix   \n",
              "3               Arkansas                       AR  Little Rock  Little Rock   \n",
              "4             California                       CA   Sacramento  Los Angeles   \n",
              "\n",
              "  Established[upper-alpha 1] Population[upper-alpha 2][3] Total area[4]  \\\n",
              "  Established[upper-alpha 1] Population[upper-alpha 2][3]           mi2   \n",
              "0               Dec 14, 1819                      4903185         52420   \n",
              "1                Jan 3, 1959                       731545        665384   \n",
              "2               Feb 14, 1912                      7278717        113990   \n",
              "3               Jun 15, 1836                      3017804         53179   \n",
              "4                Sep 9, 1850                     39512223        163695   \n",
              "\n",
              "           Land area[4]          Water area[4]         Numberof Reps.  \n",
              "       km2          mi2      km2           mi2     km2 Numberof Reps.  \n",
              "0   135767        50645   131171          1775    4597              7  \n",
              "1  1723337       570641  1477953         94743  245384              1  \n",
              "2   295234       113594   294207           396    1026              9  \n",
              "3   137732        52035   134771          1143    2961              4  \n",
              "4   423967       155779   403466          7916   20501             53  "
            ]
          },
          "execution_count": 47,
          "metadata": {},
          "output_type": "execute_result"
        }
      ],
      "source": [
        "usa_states = usa_states[0]\n",
        "usa_states.head()"
      ]
    },
    {
      "cell_type": "markdown",
      "metadata": {
        "id": "WfDXtoLa94QB"
      },
      "source": [
        "Note, in even the last year, the capability of `pd.read_html()` has improved. The merged cells you see in the web table are now handled much more conveniently, with 'Phoenix' now being duplicated so the subsequent columns remain aligned. But check this anyway. If you extract the established date column, you should just get dates. Recall previously you used the `.loc` accessor, because you were using labels. Now you want to refer to a column by its index position and so use `.iloc`. For a discussion on the difference use cases of `.loc` and `.iloc` refer to the [pandas documentation](https://pandas.pydata.org/pandas-docs/stable/user_guide/indexing.html)."
      ]
    },
    {
      "cell_type": "code",
      "execution_count": null,
      "metadata": {
        "id": "jN7Trk1x94QB"
      },
      "outputs": [],
      "source": [
        "#Code task 30#\n",
        "#Use the iloc accessor to get the pandas Series for column number 4 from `usa_states`\n",
        "#It should be a column of dates\n",
        "established = usa_sates.___[:, 4]"
      ]
    },
    {
      "cell_type": "code",
      "execution_count": null,
      "metadata": {
        "id": "-DgN036Y94QB",
        "outputId": "9019186f-2b53-40a3-e7c3-0add697b560f"
      },
      "outputs": [
        {
          "data": {
            "text/plain": [
              "0     Dec 14, 1819\n",
              "1      Jan 3, 1959\n",
              "2     Feb 14, 1912\n",
              "3     Jun 15, 1836\n",
              "4      Sep 9, 1850\n",
              "5      Aug 1, 1876\n",
              "6      Jan 9, 1788\n",
              "7      Dec 7, 1787\n",
              "8      Mar 3, 1845\n",
              "9      Jan 2, 1788\n",
              "10    Aug 21, 1959\n",
              "11     Jul 3, 1890\n",
              "12     Dec 3, 1818\n",
              "13    Dec 11, 1816\n",
              "14    Dec 28, 1846\n",
              "15    Jan 29, 1861\n",
              "16     Jun 1, 1792\n",
              "17    Apr 30, 1812\n",
              "18    Mar 15, 1820\n",
              "19    Apr 28, 1788\n",
              "20     Feb 6, 1788\n",
              "21    Jan 26, 1837\n",
              "22    May 11, 1858\n",
              "23    Dec 10, 1817\n",
              "24    Aug 10, 1821\n",
              "25     Nov 8, 1889\n",
              "26     Mar 1, 1867\n",
              "27    Oct 31, 1864\n",
              "28    Jun 21, 1788\n",
              "29    Dec 18, 1787\n",
              "30     Jan 6, 1912\n",
              "31    Jul 26, 1788\n",
              "32    Nov 21, 1789\n",
              "33     Nov 2, 1889\n",
              "34     Mar 1, 1803\n",
              "35    Nov 16, 1907\n",
              "36    Feb 14, 1859\n",
              "37    Dec 12, 1787\n",
              "38    May 29, 1790\n",
              "39    May 23, 1788\n",
              "40     Nov 2, 1889\n",
              "41     Jun 1, 1796\n",
              "42    Dec 29, 1845\n",
              "43     Jan 4, 1896\n",
              "44     Mar 4, 1791\n",
              "45    Jun 25, 1788\n",
              "46    Nov 11, 1889\n",
              "47    Jun 20, 1863\n",
              "48    May 29, 1848\n",
              "49    Jul 10, 1890\n",
              "Name: (Established[upper-alpha 1], Established[upper-alpha 1]), dtype: object"
            ]
          },
          "execution_count": 49,
          "metadata": {},
          "output_type": "execute_result"
        }
      ],
      "source": [
        "established"
      ]
    },
    {
      "cell_type": "markdown",
      "metadata": {
        "id": "ff59yaFP94QC"
      },
      "source": [
        "Extract the state name, population, and total area (square miles) columns."
      ]
    },
    {
      "cell_type": "code",
      "execution_count": null,
      "metadata": {
        "id": "C3g77fQt94QC"
      },
      "outputs": [],
      "source": [
        "#Code task 31#\n",
        "#Now use the iloc accessor again to extract columns 0, 5, and 6 and the dataframe's `copy()` method\n",
        "#Set the names of these extracted columns to 'state', 'state_population', and 'state_area_sq_miles',\n",
        "#respectively.\n",
        "usa_states_sub = usa_states.___[:, [___]].copy()\n",
        "usa_states_sub.columns = [___]\n",
        "usa_states_sub.head()"
      ]
    },
    {
      "cell_type": "markdown",
      "metadata": {
        "id": "WLryEYxE94QC"
      },
      "source": [
        "Do you have all the ski data states accounted for?"
      ]
    },
    {
      "cell_type": "code",
      "execution_count": null,
      "metadata": {
        "id": "D2GCkGZc94QC"
      },
      "outputs": [],
      "source": [
        "#Code task 32#\n",
        "#Find the states in `state_summary` that are not in `usa_states_sub`\n",
        "#Hint: set(list1) - set(list2) is an easy way to get items in list1 that are not in list2\n",
        "missing_states = ___(state_summary.state) - ___(usa_states_sub.state)\n",
        "missing_states"
      ]
    },
    {
      "cell_type": "markdown",
      "metadata": {
        "id": "IS4tB49d94QD"
      },
      "source": [
        "No?? "
      ]
    },
    {
      "cell_type": "markdown",
      "metadata": {
        "id": "lkeZ2oMv94QD"
      },
      "source": [
        "If you look at the table on the web, you can perhaps start to guess what the problem is. You can confirm your suspicion by pulling out state names that _contain_ 'Massachusetts', 'Pennsylvania', or 'Virginia' from usa_states_sub:"
      ]
    },
    {
      "cell_type": "code",
      "execution_count": null,
      "metadata": {
        "id": "Eai25OC894QD",
        "outputId": "a024a4a6-44b8-4a58-e96c-7abea747b03a"
      },
      "outputs": [
        {
          "data": {
            "text/plain": [
              "20    Massachusetts[upper-alpha 3]\n",
              "37     Pennsylvania[upper-alpha 3]\n",
              "38     Rhode Island[upper-alpha 4]\n",
              "45         Virginia[upper-alpha 3]\n",
              "47                   West Virginia\n",
              "Name: state, dtype: object"
            ]
          },
          "execution_count": 52,
          "metadata": {},
          "output_type": "execute_result"
        }
      ],
      "source": [
        "usa_states_sub.state[usa_states_sub.state.str.contains('Massachusetts|Pennsylvania|Rhode Island|Virginia')]"
      ]
    },
    {
      "cell_type": "markdown",
      "metadata": {
        "id": "7hyPOfTO94QD"
      },
      "source": [
        "Delete square brackets and their contents and try again:"
      ]
    },
    {
      "cell_type": "code",
      "execution_count": null,
      "metadata": {
        "id": "RgLzn_DE94QD"
      },
      "outputs": [],
      "source": [
        "#Code task 33#\n",
        "#Use pandas' Series' `replace()` method to replace anything within square brackets (including the brackets)\n",
        "#with the empty string. Do this inplace, so you need to specify the arguments:\n",
        "#to_replace='\\[.*\\]' #literal square bracket followed by anything or nothing followed by literal closing bracket\n",
        "#value='' #empty string as replacement\n",
        "#regex=True #we used a regex in our `to_replace` argument\n",
        "#inplace=True #Do this \"in place\"\n",
        "usa_states_sub.state.___(to_replace=___, value=__, regex=___, inplace=___)\n",
        "usa_states_sub.state[usa_states_sub.state.str.contains('Massachusetts|Pennsylvania|Rhode Island|Virginia')]"
      ]
    },
    {
      "cell_type": "code",
      "execution_count": null,
      "metadata": {
        "id": "XvkxllGk94QD"
      },
      "outputs": [],
      "source": [
        "#Code task 34#\n",
        "#And now verify none of our states are missing by checking that there are no states in\n",
        "#state_summary that are not in usa_states_sub (as earlier using `set()`)\n",
        "missing_states = ___(state_summary.state) - ___(usa_states_sub.state)\n",
        "missing_states"
      ]
    },
    {
      "cell_type": "markdown",
      "metadata": {
        "id": "747NRyff94QE"
      },
      "source": [
        "Better! You have an empty set for missing states now. You can confidently add the population and state area columns to the ski resort data."
      ]
    },
    {
      "cell_type": "code",
      "execution_count": null,
      "metadata": {
        "id": "Rx7SGks394QE"
      },
      "outputs": [],
      "source": [
        "#Code task 35#\n",
        "#Use 'state_summary's `merge()` method to combine our new data in 'usa_states_sub'\n",
        "#specify the arguments how='left' and on='state'\n",
        "state_summary = state_summary.___(usa_states_sub, ___=___, ___=___)\n",
        "state_summary.head()"
      ]
    },
    {
      "cell_type": "markdown",
      "metadata": {
        "id": "xqKja6Uq94QE"
      },
      "source": [
        "Having created this data frame of summary statistics for various states, it would seem obvious to join this with the ski resort data to augment it with this additional data. You will do this, but not now. In the next notebook you will be exploring the data, including the relationships between the states. For that you want a separate row for each state, as you have here, and joining the data this soon means you'd need to separate and eliminate redundances in the state data when you wanted it."
      ]
    },
    {
      "cell_type": "markdown",
      "metadata": {
        "id": "qp0dtOhY94QE"
      },
      "source": [
        "## 2.11 Target Feature<a id='2.11_Target_Feature'></a>"
      ]
    },
    {
      "cell_type": "markdown",
      "metadata": {
        "id": "aNOdWRuk94QF"
      },
      "source": [
        "Finally, what will your target be when modelling ticket price? What relationship is there between weekday and weekend prices?"
      ]
    },
    {
      "cell_type": "code",
      "execution_count": null,
      "metadata": {
        "id": "dA0r5g_q94QF"
      },
      "outputs": [],
      "source": [
        "#Code task 36#\n",
        "#Use ski_data's `plot()` method to create a scatterplot (kind='scatter') with 'AdultWeekday' on the x-axis and\n",
        "#'AdultWeekend' on the y-axis\n",
        "ski_data.___(x=___, y=___, kind=___);"
      ]
    },
    {
      "cell_type": "markdown",
      "metadata": {
        "id": "cvze4usj94QF"
      },
      "source": [
        "A couple of observations can be made. Firstly, there is a clear line where weekend and weekday prices are equal. Weekend prices being higher than weekday prices seem restricted to sub $100 resorts. Recall from the boxplot earlier that the distribution for weekday and weekend prices in Montana seemed equal. Is this confirmed in the actual data for each resort? Big Mountain resort is in Montana, so the relationship between these quantities in this state are particularly relevant."
      ]
    },
    {
      "cell_type": "code",
      "execution_count": null,
      "metadata": {
        "id": "NPXAbH4T94QF"
      },
      "outputs": [],
      "source": [
        "#Code task 37#\n",
        "#Use the loc accessor on ski_data to print the 'AdultWeekend' and 'AdultWeekday' columns for Montana only\n",
        "ski_data.___[ski_data.state == ___, [___, ___]]"
      ]
    },
    {
      "cell_type": "markdown",
      "metadata": {
        "id": "qW8UuQVt94QG"
      },
      "source": [
        "Is there any reason to prefer weekend or weekday prices? Which is missing the least?"
      ]
    },
    {
      "cell_type": "code",
      "execution_count": null,
      "metadata": {
        "id": "mj3JrEZT94QG",
        "outputId": "a7519ff4-2224-4fd8-ba11-464d68e06d09"
      },
      "outputs": [
        {
          "data": {
            "text/plain": [
              "AdultWeekend    4\n",
              "AdultWeekday    7\n",
              "dtype: int64"
            ]
          },
          "execution_count": 58,
          "metadata": {},
          "output_type": "execute_result"
        }
      ],
      "source": [
        "ski_data[['AdultWeekend', 'AdultWeekday']].isnull().sum()"
      ]
    },
    {
      "cell_type": "markdown",
      "metadata": {
        "id": "NSIc1mFm94QG"
      },
      "source": [
        "Weekend prices have the least missing values of the two, so drop the weekday prices and then keep just the rows that have weekend price."
      ]
    },
    {
      "cell_type": "code",
      "execution_count": null,
      "metadata": {
        "id": "4c_QjfE594QG"
      },
      "outputs": [],
      "source": [
        "ski_data.drop(columns='AdultWeekday', inplace=True)\n",
        "ski_data.dropna(subset=['AdultWeekend'], inplace=True)"
      ]
    },
    {
      "cell_type": "code",
      "execution_count": null,
      "metadata": {
        "id": "OLZzFoh694QG",
        "outputId": "cd279fb7-bfed-4b74-e3db-b1e2e91e096a"
      },
      "outputs": [
        {
          "data": {
            "text/plain": [
              "(277, 25)"
            ]
          },
          "execution_count": 60,
          "metadata": {},
          "output_type": "execute_result"
        }
      ],
      "source": [
        "ski_data.shape"
      ]
    },
    {
      "cell_type": "markdown",
      "metadata": {
        "id": "ouvRdmB694QH"
      },
      "source": [
        "Perform a final quick check on the data."
      ]
    },
    {
      "cell_type": "markdown",
      "metadata": {
        "id": "tkF9lOT794QH"
      },
      "source": [
        "### 2.11.1 Number Of Missing Values By Row - Resort<a id='2.11.1_Number_Of_Missing_Values_By_Row_-_Resort'></a>"
      ]
    },
    {
      "cell_type": "markdown",
      "metadata": {
        "id": "EkuXy-AS94QH"
      },
      "source": [
        "Having dropped rows missing the desired target ticket price, what degree of missingness do you have for the remaining rows?"
      ]
    },
    {
      "cell_type": "code",
      "execution_count": null,
      "metadata": {
        "id": "ZD55k1RY94QH",
        "outputId": "6684bb55-1e14-476a-ac9b-c2571f636e9c"
      },
      "outputs": [
        {
          "data": {
            "text/html": [
              "<div>\n",
              "<style scoped>\n",
              "    .dataframe tbody tr th:only-of-type {\n",
              "        vertical-align: middle;\n",
              "    }\n",
              "\n",
              "    .dataframe tbody tr th {\n",
              "        vertical-align: top;\n",
              "    }\n",
              "\n",
              "    .dataframe thead th {\n",
              "        text-align: right;\n",
              "    }\n",
              "</style>\n",
              "<table border=\"1\" class=\"dataframe\">\n",
              "  <thead>\n",
              "    <tr style=\"text-align: right;\">\n",
              "      <th></th>\n",
              "      <th>count</th>\n",
              "      <th>%</th>\n",
              "    </tr>\n",
              "  </thead>\n",
              "  <tbody>\n",
              "    <tr>\n",
              "      <th>329</th>\n",
              "      <td>5</td>\n",
              "      <td>20.0</td>\n",
              "    </tr>\n",
              "    <tr>\n",
              "      <th>62</th>\n",
              "      <td>5</td>\n",
              "      <td>20.0</td>\n",
              "    </tr>\n",
              "    <tr>\n",
              "      <th>141</th>\n",
              "      <td>5</td>\n",
              "      <td>20.0</td>\n",
              "    </tr>\n",
              "    <tr>\n",
              "      <th>86</th>\n",
              "      <td>5</td>\n",
              "      <td>20.0</td>\n",
              "    </tr>\n",
              "    <tr>\n",
              "      <th>74</th>\n",
              "      <td>5</td>\n",
              "      <td>20.0</td>\n",
              "    </tr>\n",
              "    <tr>\n",
              "      <th>146</th>\n",
              "      <td>5</td>\n",
              "      <td>20.0</td>\n",
              "    </tr>\n",
              "    <tr>\n",
              "      <th>184</th>\n",
              "      <td>4</td>\n",
              "      <td>16.0</td>\n",
              "    </tr>\n",
              "    <tr>\n",
              "      <th>108</th>\n",
              "      <td>4</td>\n",
              "      <td>16.0</td>\n",
              "    </tr>\n",
              "    <tr>\n",
              "      <th>198</th>\n",
              "      <td>4</td>\n",
              "      <td>16.0</td>\n",
              "    </tr>\n",
              "    <tr>\n",
              "      <th>39</th>\n",
              "      <td>4</td>\n",
              "      <td>16.0</td>\n",
              "    </tr>\n",
              "  </tbody>\n",
              "</table>\n",
              "</div>"
            ],
            "text/plain": [
              "     count     %\n",
              "329      5  20.0\n",
              "62       5  20.0\n",
              "141      5  20.0\n",
              "86       5  20.0\n",
              "74       5  20.0\n",
              "146      5  20.0\n",
              "184      4  16.0\n",
              "108      4  16.0\n",
              "198      4  16.0\n",
              "39       4  16.0"
            ]
          },
          "execution_count": 61,
          "metadata": {},
          "output_type": "execute_result"
        }
      ],
      "source": [
        "missing = pd.concat([ski_data.isnull().sum(axis=1), 100 * ski_data.isnull().mean(axis=1)], axis=1)\n",
        "missing.columns=['count', '%']\n",
        "missing.sort_values(by='count', ascending=False).head(10)"
      ]
    },
    {
      "cell_type": "markdown",
      "metadata": {
        "id": "ecieymCA94QH"
      },
      "source": [
        "These seem possibly curiously quantized..."
      ]
    },
    {
      "cell_type": "code",
      "execution_count": null,
      "metadata": {
        "id": "Ri6pah9g94QH",
        "outputId": "77d68ad0-ef98-4d8a-a448-19dae0872199"
      },
      "outputs": [
        {
          "data": {
            "text/plain": [
              "array([ 0.,  4.,  8., 12., 16., 20.])"
            ]
          },
          "execution_count": 62,
          "metadata": {},
          "output_type": "execute_result"
        }
      ],
      "source": [
        "missing['%'].unique()"
      ]
    },
    {
      "cell_type": "markdown",
      "metadata": {
        "id": "NMeNDsX394QH"
      },
      "source": [
        "Yes, the percentage of missing values per row appear in multiples of 4."
      ]
    },
    {
      "cell_type": "code",
      "execution_count": null,
      "metadata": {
        "id": "G6_uH9Zn94QH",
        "outputId": "c463a164-2dfd-4f67-b831-8c3c16eae2b9"
      },
      "outputs": [
        {
          "data": {
            "text/plain": [
              "0.0     107\n",
              "4.0      94\n",
              "8.0      45\n",
              "12.0     15\n",
              "16.0     10\n",
              "20.0      6\n",
              "Name: %, dtype: int64"
            ]
          },
          "execution_count": 63,
          "metadata": {},
          "output_type": "execute_result"
        }
      ],
      "source": [
        "missing['%'].value_counts()"
      ]
    },
    {
      "cell_type": "markdown",
      "metadata": {
        "id": "K6MQfpPV94QH"
      },
      "source": [
        "This is almost as if values have been removed artificially... Nevertheless, what you don't know is how useful the missing features are in predicting ticket price. You shouldn't just drop rows that are missing several useless features."
      ]
    },
    {
      "cell_type": "code",
      "execution_count": null,
      "metadata": {
        "id": "UG7kWF9d94QI",
        "outputId": "e2fa332f-91d1-4e08-e4ef-571d3c21759a"
      },
      "outputs": [
        {
          "name": "stdout",
          "output_type": "stream",
          "text": [
            "<class 'pandas.core.frame.DataFrame'>\n",
            "Int64Index: 277 entries, 0 to 329\n",
            "Data columns (total 25 columns):\n",
            " #   Column             Non-Null Count  Dtype  \n",
            "---  ------             --------------  -----  \n",
            " 0   Name               277 non-null    object \n",
            " 1   Region             277 non-null    object \n",
            " 2   state              277 non-null    object \n",
            " 3   summit_elev        277 non-null    int64  \n",
            " 4   vertical_drop      277 non-null    int64  \n",
            " 5   base_elev          277 non-null    int64  \n",
            " 6   trams              277 non-null    int64  \n",
            " 7   fastSixes          277 non-null    int64  \n",
            " 8   fastQuads          277 non-null    int64  \n",
            " 9   quad               277 non-null    int64  \n",
            " 10  triple             277 non-null    int64  \n",
            " 11  double             277 non-null    int64  \n",
            " 12  surface            277 non-null    int64  \n",
            " 13  total_chairs       277 non-null    int64  \n",
            " 14  Runs               274 non-null    float64\n",
            " 15  TerrainParks       233 non-null    float64\n",
            " 16  LongestRun_mi      272 non-null    float64\n",
            " 17  SkiableTerrain_ac  275 non-null    float64\n",
            " 18  Snow Making_ac     240 non-null    float64\n",
            " 19  daysOpenLastYear   233 non-null    float64\n",
            " 20  yearsOpen          277 non-null    float64\n",
            " 21  averageSnowfall    268 non-null    float64\n",
            " 22  AdultWeekend       277 non-null    float64\n",
            " 23  projectedDaysOpen  236 non-null    float64\n",
            " 24  NightSkiing_ac     163 non-null    float64\n",
            "dtypes: float64(11), int64(11), object(3)\n",
            "memory usage: 56.3+ KB\n"
          ]
        }
      ],
      "source": [
        "ski_data.info()"
      ]
    },
    {
      "cell_type": "markdown",
      "metadata": {
        "id": "W1_QTW4o94QI"
      },
      "source": [
        "There are still some missing values, and it's good to be aware of this, but leave them as is for now."
      ]
    },
    {
      "cell_type": "markdown",
      "metadata": {
        "id": "8Tz6t3Tb94QI"
      },
      "source": [
        "## 2.12 Save data<a id='2.12_Save_data'></a>"
      ]
    },
    {
      "cell_type": "code",
      "execution_count": null,
      "metadata": {
        "id": "HTryoJ9O94QI",
        "outputId": "bd14d90d-de3a-4690-f05b-fe440434d41d"
      },
      "outputs": [
        {
          "data": {
            "text/plain": [
              "(277, 25)"
            ]
          },
          "execution_count": 65,
          "metadata": {},
          "output_type": "execute_result"
        }
      ],
      "source": [
        "ski_data.shape"
      ]
    },
    {
      "cell_type": "markdown",
      "metadata": {
        "id": "0FmsCbhE94QI"
      },
      "source": [
        "Save this to your data directory, separately. Note that you were provided with the data in `raw_data` and you should saving derived data in a separate location. This guards against overwriting our original data."
      ]
    },
    {
      "cell_type": "code",
      "execution_count": null,
      "metadata": {
        "id": "QZskqTEh94QI"
      },
      "outputs": [],
      "source": [
        "# save the data to a new csv file\n",
        "datapath = '../data'\n",
        "save_file(ski_data, 'ski_data_cleaned.csv', datapath)"
      ]
    },
    {
      "cell_type": "code",
      "execution_count": null,
      "metadata": {
        "id": "YnpA7r-t94QI"
      },
      "outputs": [],
      "source": [
        "# save the state_summary separately.\n",
        "datapath = '../data'\n",
        "save_file(state_summary, 'state_summary.csv', datapath)"
      ]
    },
    {
      "cell_type": "markdown",
      "metadata": {
        "id": "Vtah1phY94QI"
      },
      "source": [
        "## 2.13 Summary<a id='2.13_Summary'></a>"
      ]
    },
    {
      "cell_type": "markdown",
      "metadata": {
        "id": "_JfZSpyq94QJ"
      },
      "source": [
        "**Q: 3** Write a summary statement that highlights the key processes and findings from this notebook. This should include information such as the original number of rows in the data, whether our own resort was actually present etc. What columns, if any, have been removed? Any rows? Summarise the reasons why. Were any other issues found? What remedial actions did you take? State where you are in the project. Can you confirm what the target feature is for your desire to predict ticket price? How many rows were left in the data? Hint: this is a great opportunity to reread your notebook, check all cells have been executed in order and from a \"blank slate\" (restarting the kernel will do this), and that your workflow makes sense and follows a logical pattern. As you do this you can pull out salient information for inclusion in this summary. Thus, this section will provide an important overview of \"what\" and \"why\" without having to dive into the \"how\" or any unproductive or inconclusive steps along the way."
      ]
    },
    {
      "cell_type": "markdown",
      "metadata": {
        "id": "LPY9A0Mc94QJ"
      },
      "source": [
        "**A: 3** Your answer here"
      ]
    }
  ],
  "metadata": {
    "kernelspec": {
      "display_name": "Python 3",
      "language": "python",
      "name": "python3"
    },
    "language_info": {
      "codemirror_mode": {
        "name": "ipython",
        "version": 3
      },
      "file_extension": ".py",
      "mimetype": "text/x-python",
      "name": "python",
      "nbconvert_exporter": "python",
      "pygments_lexer": "ipython3",
      "version": "3.7.4"
    },
    "toc": {
      "base_numbering": 1,
      "nav_menu": {},
      "number_sections": true,
      "sideBar": true,
      "skip_h1_title": false,
      "title_cell": "Table of Contents",
      "title_sidebar": "Contents",
      "toc_cell": false,
      "toc_position": {},
      "toc_section_display": true,
      "toc_window_display": true
    },
    "varInspector": {
      "cols": {
        "lenName": 16,
        "lenType": 16,
        "lenVar": 40
      },
      "kernels_config": {
        "python": {
          "delete_cmd_postfix": "",
          "delete_cmd_prefix": "del ",
          "library": "var_list.py",
          "varRefreshCmd": "print(var_dic_list())"
        },
        "r": {
          "delete_cmd_postfix": ") ",
          "delete_cmd_prefix": "rm(",
          "library": "var_list.r",
          "varRefreshCmd": "cat(var_dic_list()) "
        }
      },
      "types_to_exclude": [
        "module",
        "function",
        "builtin_function_or_method",
        "instance",
        "_Feature"
      ],
      "window_display": false
    },
    "colab": {
      "provenance": [],
      "include_colab_link": true
    }
  },
  "nbformat": 4,
  "nbformat_minor": 0
}